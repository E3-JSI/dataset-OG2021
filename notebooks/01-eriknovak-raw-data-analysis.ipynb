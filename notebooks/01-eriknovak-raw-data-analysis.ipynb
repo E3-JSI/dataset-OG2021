{
 "cells": [
  {
   "cell_type": "code",
   "execution_count": 10,
   "metadata": {},
   "outputs": [
    {
     "name": "stdout",
     "output_type": "stream",
     "text": [
      "The autoreload extension is already loaded. To reload it, use:\n",
      "  %reload_ext autoreload\n"
     ]
    }
   ],
   "source": [
    "# enable automatic reloading of the notebook\n",
    "%load_ext autoreload\n",
    "%autoreload 2"
   ]
  },
  {
   "cell_type": "markdown",
   "metadata": {},
   "source": [
    "# Data Analysis\n",
    "This notebook contains the scripts used for analyzing the retrieved data."
   ]
  },
  {
   "cell_type": "markdown",
   "metadata": {},
   "source": [
    "## Load Dataset\n",
    "\n",
    "Loads the dataset, counts the number of articles loaded, and converts the\n",
    "list of json objects into a Python Pandas Data Frame."
   ]
  },
  {
   "cell_type": "code",
   "execution_count": 17,
   "metadata": {},
   "outputs": [],
   "source": [
    "# import the dataset loader\n",
    "from src.data.dataset import load_dataset"
   ]
  },
  {
   "cell_type": "code",
   "execution_count": 18,
   "metadata": {},
   "outputs": [],
   "source": [
    "# load the raw articles\n",
    "dataset = load_dataset()"
   ]
  },
  {
   "cell_type": "code",
   "execution_count": 19,
   "metadata": {},
   "outputs": [
    {
     "data": {
      "text/plain": [
       "2519058"
      ]
     },
     "execution_count": 19,
     "metadata": {},
     "output_type": "execute_result"
    }
   ],
   "source": [
    "# check how many articles were loaded\n",
    "len(dataset)"
   ]
  },
  {
   "cell_type": "markdown",
   "metadata": {},
   "source": [
    "## Dataset Statistics\n",
    "\n",
    "Dataset statistics will provide insight into what type of articles \n",
    "did we collect. To best simulate the real-world scenario, we must\n",
    "first find the articles distribution per \n",
    "\n",
    "- datetime\n",
    "- language\n",
    "- source\n",
    "- events\n",
    "\n",
    "In order to do so, here is a list of tasks we need to perform.\n",
    "\n",
    "- **Datetime distribution.** Create a histogram or line chart with the\n",
    "  datetime on the x-axis and the article count on the y-axis.\n",
    "- **Language distribution.** Create a bar chart showing the article's\n",
    "  distribution by language.\n",
    "- **Language coocurrence.** Create a heatmap showing in which languages\n",
    "  are the events most commonly reported in (based on the `eventUri` \n",
    "  attribute).\n",
    "- **Source distribution.** Create a bar chart showing the article's \n",
    "  distribution by source.\n",
    "- **Number of duplicates.** Get the number of article duplicates in the\n",
    "  data set.\n",
    "\n",
    "In addition, we are interested in the above distributions for each \n",
    "group of articles, where a group of articles is defined as the articles\n",
    "that contain the same `concept` values."
   ]
  },
  {
   "cell_type": "code",
   "execution_count": 14,
   "metadata": {},
   "outputs": [],
   "source": [
    "# import required libraries\n",
    "import pandas as pd"
   ]
  },
  {
   "cell_type": "code",
   "execution_count": 15,
   "metadata": {},
   "outputs": [],
   "source": [
    "df = pd.DataFrame.from_dict(dataset)"
   ]
  },
  {
   "cell_type": "code",
   "execution_count": 20,
   "metadata": {},
   "outputs": [
    {
     "data": {
      "text/plain": [
       "{'uri': '1453078729',\n",
       " 'lang': 'deu',\n",
       " 'isDuplicate': True,\n",
       " 'date': '2020-02-19',\n",
       " 'time': '06:26:00',\n",
       " 'dateTime': '2020-02-19T06:26:00Z',\n",
       " 'dateTimePub': '2020-02-19T05:49:00Z',\n",
       " 'dataType': 'news',\n",
       " 'sim': 0,\n",
       " 'url': 'https://www.watson.de/!350934492',\n",
       " 'title': 'Zoff zwischen US-Präsidenten: Obama twittert - Trump völlig aus',\n",
       " 'body': 'BVB: Sammer bereitet wohl mögliches Favre-Aus vor - zwei Kandidaten im Gespräch\\n\\nDonald Trump, 45. Präsident der Vereinigten Staaten von Amerika, hat eine sehr kurze Zündschnur. Vor allem dann, wenn es irgendeiner wagt, auch nur im Entferntesten über seine Person zu sprechen. Oder seine Erfolge.\\n\\nHeißt dieser \"irgendeiner\" dann noch Barack Obama, dann gute Nacht!\\n\\nDiese unheilvolle Kombination aus Barack Obama und einem Thema, das Donald Trump sehr am Herzen liegt, sorgte Anfang dieser Woche für einen spontanen Wutausbruch des Präsidenten.\\n\\nBegonnen hat alles mit diesem Tweet von Ex-Präsident Barack Obama am Montag:\\n\\nDarin schreibt er:\\n\\nDer \"Recovery Act\" ist ein 787 Milliarden Dollar schweres Konjunkturprogramm, das im Februar 2009 als Gegensteuer zur Wirtschaftskrise verabschiedet wurde. Es beinhaltete unter anderem Steuersenkungen und Investitionen in Bildung, Infrastruktur und Gesundheitswesen.\\n\\nSo weit die Fakten. Doch die interessieren Trump nur wenig. In seinen Augen ist er ganz alleine für den wirtschaftlichen Erfolg der USA verantwortlich. Jeder, der das anders sieht, kriegt die Explosionskraft von Trump auf Twitter zu spüren.\\n\\nUnd so kam es, wie es kommen musste. Um Punkt 0.40 Uhr (deutscher Zeit) brach der Vulkan Trump aus.\\n\\nDie Eruption verursachte eine Denunzierungs- und Selbstlobwolke, die kilometerweit in die Twitter-Atmosphäre geschleudert wurde. Die Trump\\'schen Wolken sind dabei höchst toxisch.\\n\\nTrump schrieb:\\n\\nDie Reaktionen auf die Tweets von Obama und Trump fallen höchst unterschiedlich aus. Sie zeigen mehr denn je, wie hoffnungslos gespalten die USA sind.\\n\\nZuerst zu den Medienreaktionen:\\n\\nDie Twitter-Reaktionen sind nur schwer zu ertragen. Auch sie zeugen von einem tief gespaltenen Land. Sachliche Diskussionen vermisst man schmerzlich. Eine kleine Auswahl:',\n",
       " 'source': {'uri': 'watson.de', 'dataType': 'news', 'title': 'watson.de/'},\n",
       " 'authors': [],\n",
       " 'image': 'https://www.watson.de/imgdb/33fb/Qx,A,0,0,1490,836,67,170,1297,322/5471662579597922',\n",
       " 'eventUri': None,\n",
       " 'sentiment': None,\n",
       " 'wgt': 319789560,\n",
       " 'relevance': 26,\n",
       " 'concepts': ['volcano', 'types_of_volcanic_eruptions'],\n",
       " 'date_start': datetime.datetime(2020, 2, 19, 0, 0),\n",
       " 'date_end': datetime.datetime(2020, 2, 25, 0, 0)}"
      ]
     },
     "execution_count": 20,
     "metadata": {},
     "output_type": "execute_result"
    }
   ],
   "source": [
    "dataset[0]"
   ]
  },
  {
   "cell_type": "code",
   "execution_count": null,
   "metadata": {},
   "outputs": [],
   "source": []
  }
 ],
 "metadata": {
  "interpreter": {
   "hash": "6354b24a2039baeccc445c7a432d044fe16ec539db3144e64659d9876a33f604"
  },
  "kernelspec": {
   "display_name": "Python 3.8.12 64-bit ('venv': venv)",
   "language": "python",
   "name": "python3"
  },
  "language_info": {
   "codemirror_mode": {
    "name": "ipython",
    "version": 3
   },
   "file_extension": ".py",
   "mimetype": "text/x-python",
   "name": "python",
   "nbconvert_exporter": "python",
   "pygments_lexer": "ipython3",
   "version": "3.8.12"
  },
  "orig_nbformat": 4
 },
 "nbformat": 4,
 "nbformat_minor": 2
}
