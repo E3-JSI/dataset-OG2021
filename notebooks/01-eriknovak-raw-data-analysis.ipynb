{
 "cells": [
  {
   "cell_type": "code",
   "execution_count": 1,
   "metadata": {},
   "outputs": [],
   "source": [
    "# enable automatic reloading of the notebook\n",
    "%load_ext autoreload\n",
    "%autoreload 2"
   ]
  },
  {
   "cell_type": "markdown",
   "metadata": {},
   "source": [
    "# Data Analysis\n",
    "This notebook contains the scripts used for analyzing the retrieved data."
   ]
  },
  {
   "cell_type": "markdown",
   "metadata": {},
   "source": [
    "## Load Dataset\n",
    "\n",
    "Loads the dataset, counts the number of articles loaded, and converts the\n",
    "list of json objects into a Python Pandas Data Frame."
   ]
  },
  {
   "cell_type": "code",
   "execution_count": 16,
   "metadata": {},
   "outputs": [
    {
     "name": "stdout",
     "output_type": "stream",
     "text": [
      "/home/matevzm/WorldNews\n"
     ]
    }
   ],
   "source": [
    "# set cwd\n",
    "import os\n",
    "os.chdir('/home/matevzm/WorldNews/src')\n",
    "\n",
    "print(os.getcwd())"
   ]
  },
  {
   "cell_type": "code",
   "execution_count": 26,
   "metadata": {},
   "outputs": [],
   "source": [
    "# import the dataset loader\n",
    "from src.data.dataset import load_dataset\n"
   ]
  },
  {
   "cell_type": "code",
   "execution_count": 30,
   "metadata": {},
   "outputs": [
    {
     "ename": "NotADirectoryError",
     "evalue": "[Errno 20] Not a directory: '/home/matevzm/WorldNews/src/data/raw/data.txt'",
     "output_type": "error",
     "traceback": [
      "\u001b[0;31m---------------------------------------------------------------------------\u001b[0m",
      "\u001b[0;31mNotADirectoryError\u001b[0m                        Traceback (most recent call last)",
      "\u001b[0;32m/tmp/ipykernel_489638/3130104817.py\u001b[0m in \u001b[0;36m<module>\u001b[0;34m\u001b[0m\n\u001b[1;32m      1\u001b[0m \u001b[0;31m# load the raw articles\u001b[0m\u001b[0;34m\u001b[0m\u001b[0;34m\u001b[0m\u001b[0;34m\u001b[0m\u001b[0m\n\u001b[0;32m----> 2\u001b[0;31m \u001b[0mdataset\u001b[0m \u001b[0;34m=\u001b[0m \u001b[0mload_dataset\u001b[0m\u001b[0;34m(\u001b[0m\u001b[0;34m'/home/matevzm/WorldNews/src/data/raw/data.txt'\u001b[0m\u001b[0;34m)\u001b[0m\u001b[0;34m\u001b[0m\u001b[0;34m\u001b[0m\u001b[0m\n\u001b[0m",
      "\u001b[0;32m~/WorldNews/src/data/dataset.py\u001b[0m in \u001b[0;36mload_dataset\u001b[0;34m(fpath)\u001b[0m\n\u001b[1;32m     39\u001b[0m     \u001b[0mprint\u001b[0m\u001b[0;34m(\u001b[0m\u001b[0mRAW_DATA_PATH\u001b[0m\u001b[0;34m)\u001b[0m\u001b[0;34m\u001b[0m\u001b[0;34m\u001b[0m\u001b[0m\n\u001b[1;32m     40\u001b[0m \u001b[0;34m\u001b[0m\u001b[0m\n\u001b[0;32m---> 41\u001b[0;31m     \u001b[0marticles\u001b[0m \u001b[0;34m=\u001b[0m \u001b[0;34m[\u001b[0m\u001b[0;34m]\u001b[0m\u001b[0;34m\u001b[0m\u001b[0;34m\u001b[0m\u001b[0m\n\u001b[0m\u001b[1;32m     42\u001b[0m     \u001b[0;31m# iterate through all of the files and folders\u001b[0m\u001b[0;34m\u001b[0m\u001b[0;34m\u001b[0m\u001b[0;34m\u001b[0m\u001b[0m\n\u001b[1;32m     43\u001b[0m     \u001b[0;32mfor\u001b[0m \u001b[0mfile\u001b[0m \u001b[0;32min\u001b[0m \u001b[0mos\u001b[0m\u001b[0;34m.\u001b[0m\u001b[0mlistdir\u001b[0m\u001b[0;34m(\u001b[0m\u001b[0mfpath\u001b[0m\u001b[0;34m)\u001b[0m\u001b[0;34m:\u001b[0m\u001b[0;34m\u001b[0m\u001b[0;34m\u001b[0m\u001b[0m\n",
      "\u001b[0;31mNotADirectoryError\u001b[0m: [Errno 20] Not a directory: '/home/matevzm/WorldNews/src/data/raw/data.txt'"
     ]
    }
   ],
   "source": [
    "# load the raw articles\n",
    "dataset = load_dataset('/home/matevzm/WorldNews/src/data/raw')"
   ]
  },
  {
   "cell_type": "code",
   "execution_count": 10,
   "metadata": {},
   "outputs": [
    {
     "data": {
      "text/plain": [
       "2519058"
      ]
     },
     "execution_count": 10,
     "metadata": {},
     "output_type": "execute_result"
    }
   ],
   "source": [
    "# check how many articles were loaded\n",
    "len(dataset)"
   ]
  },
  {
   "cell_type": "markdown",
   "metadata": {},
   "source": [
    "## Dataset Statistics\n",
    "\n",
    "Dataset statistics will provide insight into what type of articles \n",
    "did we collect. To best simulate the real-world scenario, we must\n",
    "first find the articles distribution per \n",
    "\n",
    "- datetime\n",
    "- language\n",
    "- source\n",
    "- events\n",
    "\n",
    "In order to do so, here is a list of tasks we need to perform.\n",
    "\n",
    "- **Datetime distribution.** Create a histogram or line chart with the\n",
    "  datetime on the x-axis and the article count on the y-axis.\n",
    "- **Language distribution.** Create a bar chart showing the article's\n",
    "  distribution by language.\n",
    "- **Language coocurrence.** Create a heatmap showing in which languages\n",
    "  are the events most commonly reported in (based on the `eventUri` \n",
    "  attribute).\n",
    "- **Source distribution.** Create a bar chart showing the article's \n",
    "  distribution by source.\n",
    "- **Number of duplicates.** Get the number of article duplicates in the\n",
    "  data set.\n",
    "\n",
    "In addition, we are interested in the above distributions for each \n",
    "group of articles, where a group of articles is defined as the articles\n",
    "that contain the same `concept` values."
   ]
  },
  {
   "cell_type": "code",
   "execution_count": 11,
   "metadata": {},
   "outputs": [],
   "source": [
    "# import required libraries\n",
    "import pandas as pd"
   ]
  },
  {
   "cell_type": "code",
   "execution_count": null,
   "metadata": {},
   "outputs": [],
   "source": [
    "df = pd.DataFrame.from_dict(dataset)"
   ]
  },
  {
   "cell_type": "code",
   "execution_count": 1,
   "metadata": {},
   "outputs": [
    {
     "ename": "NameError",
     "evalue": "name 'df' is not defined",
     "output_type": "error",
     "traceback": [
      "\u001b[0;31m---------------------------------------------------------------------------\u001b[0m",
      "\u001b[0;31mNameError\u001b[0m                                 Traceback (most recent call last)",
      "\u001b[0;32m/tmp/ipykernel_469334/86371736.py\u001b[0m in \u001b[0;36m<module>\u001b[0;34m\u001b[0m\n\u001b[0;32m----> 1\u001b[0;31m \u001b[0mdf\u001b[0m\u001b[0;34m.\u001b[0m\u001b[0mshape\u001b[0m\u001b[0;34m\u001b[0m\u001b[0;34m\u001b[0m\u001b[0m\n\u001b[0m",
      "\u001b[0;31mNameError\u001b[0m: name 'df' is not defined"
     ]
    }
   ],
   "source": [
    "\n",
    "df.shape\n"
   ]
  },
  {
   "cell_type": "code",
   "execution_count": 12,
   "metadata": {},
   "outputs": [
    {
     "data": {
      "text/plain": [
       "{'uri': '1453078729',\n",
       " 'lang': 'deu',\n",
       " 'isDuplicate': True,\n",
       " 'date': datetime.datetime(2020, 2, 19, 0, 0),\n",
       " 'time': '06:26:00',\n",
       " 'dateTime': datetime.datetime(2020, 2, 19, 6, 26),\n",
       " 'dateTimePub': datetime.datetime(2020, 2, 19, 5, 49),\n",
       " 'dataType': 'news',\n",
       " 'sim': 0,\n",
       " 'url': 'https://www.watson.de/!350934492',\n",
       " 'title': 'Zoff zwischen US-Präsidenten: Obama twittert - Trump völlig aus',\n",
       " 'body': 'BVB: Sammer bereitet wohl mögliches Favre-Aus vor - zwei Kandidaten im Gespräch\\n\\nDonald Trump, 45. Präsident der Vereinigten Staaten von Amerika, hat eine sehr kurze Zündschnur. Vor allem dann, wenn es irgendeiner wagt, auch nur im Entferntesten über seine Person zu sprechen. Oder seine Erfolge.\\n\\nHeißt dieser \"irgendeiner\" dann noch Barack Obama, dann gute Nacht!\\n\\nDiese unheilvolle Kombination aus Barack Obama und einem Thema, das Donald Trump sehr am Herzen liegt, sorgte Anfang dieser Woche für einen spontanen Wutausbruch des Präsidenten.\\n\\nBegonnen hat alles mit diesem Tweet von Ex-Präsident Barack Obama am Montag:\\n\\nDarin schreibt er:\\n\\nDer \"Recovery Act\" ist ein 787 Milliarden Dollar schweres Konjunkturprogramm, das im Februar 2009 als Gegensteuer zur Wirtschaftskrise verabschiedet wurde. Es beinhaltete unter anderem Steuersenkungen und Investitionen in Bildung, Infrastruktur und Gesundheitswesen.\\n\\nSo weit die Fakten. Doch die interessieren Trump nur wenig. In seinen Augen ist er ganz alleine für den wirtschaftlichen Erfolg der USA verantwortlich. Jeder, der das anders sieht, kriegt die Explosionskraft von Trump auf Twitter zu spüren.\\n\\nUnd so kam es, wie es kommen musste. Um Punkt 0.40 Uhr (deutscher Zeit) brach der Vulkan Trump aus.\\n\\nDie Eruption verursachte eine Denunzierungs- und Selbstlobwolke, die kilometerweit in die Twitter-Atmosphäre geschleudert wurde. Die Trump\\'schen Wolken sind dabei höchst toxisch.\\n\\nTrump schrieb:\\n\\nDie Reaktionen auf die Tweets von Obama und Trump fallen höchst unterschiedlich aus. Sie zeigen mehr denn je, wie hoffnungslos gespalten die USA sind.\\n\\nZuerst zu den Medienreaktionen:\\n\\nDie Twitter-Reaktionen sind nur schwer zu ertragen. Auch sie zeugen von einem tief gespaltenen Land. Sachliche Diskussionen vermisst man schmerzlich. Eine kleine Auswahl:',\n",
       " 'source': {'uri': 'watson.de', 'dataType': 'news', 'title': 'watson.de/'},\n",
       " 'authors': [],\n",
       " 'image': 'https://www.watson.de/imgdb/33fb/Qx,A,0,0,1490,836,67,170,1297,322/5471662579597922',\n",
       " 'eventUri': None,\n",
       " 'sentiment': None,\n",
       " 'wgt': 319789560,\n",
       " 'relevance': 26,\n",
       " 'concepts': ['volcano', 'types_of_volcanic_eruptions']}"
      ]
     },
     "execution_count": 12,
     "metadata": {},
     "output_type": "execute_result"
    }
   ],
   "source": [
    "dataset[0]"
   ]
  }
 ],
 "metadata": {
  "interpreter": {
   "hash": "31f2aee4e71d21fbe5cf8b01ff0e069b9275f58929596ceb00d14d90e3e16cd6"
  },
  "kernelspec": {
   "display_name": "Python 3.8.5 64-bit",
   "language": "python",
   "name": "python3"
  },
  "language_info": {
   "codemirror_mode": {
    "name": "ipython",
    "version": 3
   },
   "file_extension": ".py",
   "mimetype": "text/x-python",
   "name": "python",
   "nbconvert_exporter": "python",
   "pygments_lexer": "ipython3",
   "version": "3.8.5"
  },
  "metadata": {
   "interpreter": {
    "hash": "31f2aee4e71d21fbe5cf8b01ff0e069b9275f58929596ceb00d14d90e3e16cd6"
   }
  },
  "orig_nbformat": 3
 },
 "nbformat": 4,
 "nbformat_minor": 2
}
