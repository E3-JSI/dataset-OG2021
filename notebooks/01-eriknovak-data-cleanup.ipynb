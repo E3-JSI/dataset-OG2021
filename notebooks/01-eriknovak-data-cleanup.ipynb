{
 "cells": [
  {
   "cell_type": "code",
   "execution_count": 4,
   "metadata": {
    "execution": {
     "iopub.execute_input": "2022-08-24T12:03:38.319545Z",
     "iopub.status.busy": "2022-08-24T12:03:38.319042Z",
     "iopub.status.idle": "2022-08-24T12:03:38.373349Z",
     "shell.execute_reply": "2022-08-24T12:03:38.371921Z",
     "shell.execute_reply.started": "2022-08-24T12:03:38.319503Z"
    },
    "tags": []
   },
   "outputs": [
    {
     "name": "stdout",
     "output_type": "stream",
     "text": [
      "The autoreload extension is already loaded. To reload it, use:\n",
      "  %reload_ext autoreload\n"
     ]
    }
   ],
   "source": [
    "# enable automatic reloading of the notebook\n",
    "%load_ext autoreload\n",
    "%autoreload 2"
   ]
  },
  {
   "cell_type": "markdown",
   "metadata": {},
   "source": [
    "# News Cleanup and Preparation\n",
    "\n",
    "This notebook contains the scripts to cleanup and prepare the news data."
   ]
  },
  {
   "cell_type": "markdown",
   "metadata": {},
   "source": [
    "## Data Loading"
   ]
  },
  {
   "cell_type": "code",
   "execution_count": 5,
   "metadata": {
    "execution": {
     "iopub.execute_input": "2022-08-24T12:03:39.568235Z",
     "iopub.status.busy": "2022-08-24T12:03:39.567904Z",
     "iopub.status.idle": "2022-08-24T12:03:39.582935Z",
     "shell.execute_reply": "2022-08-24T12:03:39.581775Z",
     "shell.execute_reply.started": "2022-08-24T12:03:39.568204Z"
    },
    "tags": []
   },
   "outputs": [],
   "source": [
    "# import the dataset loader\n",
    "from src.data.dataset import load_dataset, DATA_PATHS"
   ]
  },
  {
   "cell_type": "code",
   "execution_count": 6,
   "metadata": {
    "execution": {
     "iopub.execute_input": "2022-08-24T12:03:39.999271Z",
     "iopub.status.busy": "2022-08-24T12:03:39.998876Z",
     "iopub.status.idle": "2022-08-24T12:11:54.786275Z",
     "shell.execute_reply": "2022-08-24T12:11:54.784949Z",
     "shell.execute_reply.started": "2022-08-24T12:03:39.999232Z"
    },
    "tags": []
   },
   "outputs": [],
   "source": [
    "# load the raw articles\n",
    "dataset = load_dataset(DATA_PATHS[\"raw\"], dataType=\"raw\")"
   ]
  },
  {
   "cell_type": "markdown",
   "metadata": {},
   "source": [
    "### Dataset Statistics"
   ]
  },
  {
   "cell_type": "code",
   "execution_count": 7,
   "metadata": {
    "execution": {
     "iopub.execute_input": "2022-08-24T12:50:28.281147Z",
     "iopub.status.busy": "2022-08-24T12:50:28.280537Z",
     "iopub.status.idle": "2022-08-24T12:50:28.477566Z",
     "shell.execute_reply": "2022-08-24T12:50:28.476886Z",
     "shell.execute_reply.started": "2022-08-24T12:50:28.281094Z"
    },
    "tags": []
   },
   "outputs": [
    {
     "data": {
      "text/plain": [
       "2590823"
      ]
     },
     "execution_count": 7,
     "metadata": {},
     "output_type": "execute_result"
    }
   ],
   "source": [
    "# check how many articles were loaded\n",
    "len(dataset)"
   ]
  },
  {
   "cell_type": "code",
   "execution_count": 8,
   "metadata": {
    "execution": {
     "iopub.execute_input": "2022-08-24T12:50:29.834997Z",
     "iopub.status.busy": "2022-08-24T12:50:29.834451Z",
     "iopub.status.idle": "2022-08-24T12:50:29.853648Z",
     "shell.execute_reply": "2022-08-24T12:50:29.852926Z",
     "shell.execute_reply.started": "2022-08-24T12:50:29.834946Z"
    }
   },
   "outputs": [
    {
     "data": {
      "text/plain": [
       "{'uri': '1453078729',\n",
       " 'lang': 'deu',\n",
       " 'isDuplicate': True,\n",
       " 'date': datetime.datetime(2020, 2, 19, 0, 0),\n",
       " 'time': '06:26:00',\n",
       " 'dateTime': datetime.datetime(2020, 2, 19, 6, 26),\n",
       " 'dateTimePub': datetime.datetime(2020, 2, 19, 5, 49),\n",
       " 'dataType': 'news',\n",
       " 'sim': 0,\n",
       " 'url': 'https://www.watson.de/!350934492',\n",
       " 'title': 'Zoff zwischen US-Präsidenten: Obama twittert - Trump völlig aus',\n",
       " 'body': 'BVB: Sammer bereitet wohl mögliches Favre-Aus vor - zwei Kandidaten im Gespräch\\n\\nDonald Trump, 45. Präsident der Vereinigten Staaten von Amerika, hat eine sehr kurze Zündschnur. Vor allem dann, wenn es irgendeiner wagt, auch nur im Entferntesten über seine Person zu sprechen. Oder seine Erfolge.\\n\\nHeißt dieser \"irgendeiner\" dann noch Barack Obama, dann gute Nacht!\\n\\nDiese unheilvolle Kombination aus Barack Obama und einem Thema, das Donald Trump sehr am Herzen liegt, sorgte Anfang dieser Woche für einen spontanen Wutausbruch des Präsidenten.\\n\\nBegonnen hat alles mit diesem Tweet von Ex-Präsident Barack Obama am Montag:\\n\\nDarin schreibt er:\\n\\nDer \"Recovery Act\" ist ein 787 Milliarden Dollar schweres Konjunkturprogramm, das im Februar 2009 als Gegensteuer zur Wirtschaftskrise verabschiedet wurde. Es beinhaltete unter anderem Steuersenkungen und Investitionen in Bildung, Infrastruktur und Gesundheitswesen.\\n\\nSo weit die Fakten. Doch die interessieren Trump nur wenig. In seinen Augen ist er ganz alleine für den wirtschaftlichen Erfolg der USA verantwortlich. Jeder, der das anders sieht, kriegt die Explosionskraft von Trump auf Twitter zu spüren.\\n\\nUnd so kam es, wie es kommen musste. Um Punkt 0.40 Uhr (deutscher Zeit) brach der Vulkan Trump aus.\\n\\nDie Eruption verursachte eine Denunzierungs- und Selbstlobwolke, die kilometerweit in die Twitter-Atmosphäre geschleudert wurde. Die Trump\\'schen Wolken sind dabei höchst toxisch.\\n\\nTrump schrieb:\\n\\nDie Reaktionen auf die Tweets von Obama und Trump fallen höchst unterschiedlich aus. Sie zeigen mehr denn je, wie hoffnungslos gespalten die USA sind.\\n\\nZuerst zu den Medienreaktionen:\\n\\nDie Twitter-Reaktionen sind nur schwer zu ertragen. Auch sie zeugen von einem tief gespaltenen Land. Sachliche Diskussionen vermisst man schmerzlich. Eine kleine Auswahl:',\n",
       " 'source': {'uri': 'watson.de', 'dataType': 'news', 'title': 'watson.de/'},\n",
       " 'authors': [],\n",
       " 'image': 'https://www.watson.de/imgdb/33fb/Qx,A,0,0,1490,836,67,170,1297,322/5471662579597922',\n",
       " 'eventUri': None,\n",
       " 'sentiment': None,\n",
       " 'wgt': 319789560,\n",
       " 'relevance': 26,\n",
       " 'concepts': ['volcano', 'types_of_volcanic_eruptions']}"
      ]
     },
     "execution_count": 8,
     "metadata": {},
     "output_type": "execute_result"
    }
   ],
   "source": [
    "dataset[0]"
   ]
  },
  {
   "cell_type": "markdown",
   "metadata": {},
   "source": [
    "## Cleanup Process"
   ]
  },
  {
   "cell_type": "code",
   "execution_count": 9,
   "metadata": {
    "execution": {
     "iopub.execute_input": "2022-08-24T12:50:32.502304Z",
     "iopub.status.busy": "2022-08-24T12:50:32.501791Z",
     "iopub.status.idle": "2022-08-24T12:50:33.725065Z",
     "shell.execute_reply": "2022-08-24T12:50:33.724246Z",
     "shell.execute_reply.started": "2022-08-24T12:50:32.502255Z"
    }
   },
   "outputs": [],
   "source": [
    "# filter out the duplicates\n",
    "news_articles = filter(lambda x: not x[\"isDuplicate\"], dataset)\n",
    "news_articles = list(news_articles)"
   ]
  },
  {
   "cell_type": "code",
   "execution_count": 10,
   "metadata": {
    "execution": {
     "iopub.execute_input": "2022-08-24T12:50:34.580341Z",
     "iopub.status.busy": "2022-08-24T12:50:34.579834Z",
     "iopub.status.idle": "2022-08-24T12:50:34.599916Z",
     "shell.execute_reply": "2022-08-24T12:50:34.598988Z",
     "shell.execute_reply.started": "2022-08-24T12:50:34.580292Z"
    }
   },
   "outputs": [
    {
     "data": {
      "text/plain": [
       "1791343"
      ]
     },
     "execution_count": 10,
     "metadata": {},
     "output_type": "execute_result"
    }
   ],
   "source": [
    "len(news_articles)"
   ]
  },
  {
   "cell_type": "code",
   "execution_count": 11,
   "metadata": {
    "execution": {
     "iopub.execute_input": "2022-08-24T12:50:35.748454Z",
     "iopub.status.busy": "2022-08-24T12:50:35.747951Z",
     "iopub.status.idle": "2022-08-24T12:50:37.090573Z",
     "shell.execute_reply": "2022-08-24T12:50:37.089727Z",
     "shell.execute_reply.started": "2022-08-24T12:50:35.748406Z"
    }
   },
   "outputs": [],
   "source": [
    "# sort news articles in cronological order\n",
    "news_articles.sort(key = lambda x: x[\"dateTime\"])"
   ]
  },
  {
   "cell_type": "code",
   "execution_count": 12,
   "metadata": {
    "execution": {
     "iopub.execute_input": "2022-08-24T12:50:37.817563Z",
     "iopub.status.busy": "2022-08-24T12:50:37.817057Z",
     "iopub.status.idle": "2022-08-24T12:50:37.835259Z",
     "shell.execute_reply": "2022-08-24T12:50:37.834496Z",
     "shell.execute_reply.started": "2022-08-24T12:50:37.817514Z"
    }
   },
   "outputs": [
    {
     "name": "stdout",
     "output_type": "stream",
     "text": [
      "2020-01-01 00:01:00\n",
      "2020-01-01 00:04:00\n"
     ]
    }
   ],
   "source": [
    "print(news_articles[0][\"dateTime\"])\n",
    "print(news_articles[10][\"dateTime\"])"
   ]
  },
  {
   "cell_type": "markdown",
   "metadata": {},
   "source": [
    "### Store the Non-Duplicated Articles"
   ]
  },
  {
   "cell_type": "code",
   "execution_count": 13,
   "metadata": {
    "execution": {
     "iopub.execute_input": "2022-08-24T12:50:40.214934Z",
     "iopub.status.busy": "2022-08-24T12:50:40.214282Z",
     "iopub.status.idle": "2022-08-24T12:50:40.230535Z",
     "shell.execute_reply": "2022-08-24T12:50:40.229650Z",
     "shell.execute_reply.started": "2022-08-24T12:50:40.214882Z"
    }
   },
   "outputs": [],
   "source": [
    "import os\n",
    "import json\n",
    "import datetime"
   ]
  },
  {
   "cell_type": "code",
   "execution_count": 14,
   "metadata": {
    "execution": {
     "iopub.execute_input": "2022-08-24T12:50:40.972253Z",
     "iopub.status.busy": "2022-08-24T12:50:40.971818Z",
     "iopub.status.idle": "2022-08-24T12:50:40.990477Z",
     "shell.execute_reply": "2022-08-24T12:50:40.989323Z",
     "shell.execute_reply.started": "2022-08-24T12:50:40.972211Z"
    }
   },
   "outputs": [],
   "source": [
    "class DateTimeEncoder(json.JSONEncoder):\n",
    "    \"\"\"\"Used to Serialize a datetime encoder\"\"\"\n",
    "    def default(self, z):\n",
    "        if isinstance(z, datetime.datetime):\n",
    "            return (str(z))\n",
    "        else:\n",
    "            return super().default(z)"
   ]
  },
  {
   "cell_type": "code",
   "execution_count": 15,
   "metadata": {
    "execution": {
     "iopub.execute_input": "2022-08-24T12:50:41.912704Z",
     "iopub.status.busy": "2022-08-24T12:50:41.912212Z",
     "iopub.status.idle": "2022-08-24T12:53:43.920394Z",
     "shell.execute_reply": "2022-08-24T12:53:43.918776Z",
     "shell.execute_reply.started": "2022-08-24T12:50:41.912656Z"
    }
   },
   "outputs": [],
   "source": [
    "DATA_PATH = \"../data/processed\"\n",
    "# create the processed directory if not exists\n",
    "if not os.path.isdir(DATA_PATH):\n",
    "     os.makedirs(DATA_PATH)\n",
    "\n",
    "# store the articles in the articles file\n",
    "with open(f\"{DATA_PATH}/articles.jsonl\", mode=\"w\", encoding=\"utf8\") as file:\n",
    "    for article in news_articles:\n",
    "        json.dump(article, file, ensure_ascii=False, cls=DateTimeEncoder)\n",
    "        file.write(\"\\n\")"
   ]
  },
  {
   "cell_type": "markdown",
   "metadata": {},
   "source": [
    "## Load the Processed Data"
   ]
  },
  {
   "cell_type": "code",
   "execution_count": 16,
   "metadata": {
    "execution": {
     "iopub.execute_input": "2022-08-24T13:09:19.550319Z",
     "iopub.status.busy": "2022-08-24T13:09:19.549870Z",
     "iopub.status.idle": "2022-08-24T13:09:19.566737Z",
     "shell.execute_reply": "2022-08-24T13:09:19.565934Z",
     "shell.execute_reply.started": "2022-08-24T13:09:19.550283Z"
    }
   },
   "outputs": [],
   "source": [
    "# import the dataset loader\n",
    "from src.data.dataset import load_dataset, DATA_PATHS"
   ]
  },
  {
   "cell_type": "code",
   "execution_count": 17,
   "metadata": {
    "execution": {
     "iopub.execute_input": "2022-08-24T13:09:19.820148Z",
     "iopub.status.busy": "2022-08-24T13:09:19.819759Z",
     "iopub.status.idle": "2022-08-24T13:12:59.973669Z",
     "shell.execute_reply": "2022-08-24T13:12:59.972785Z",
     "shell.execute_reply.started": "2022-08-24T13:09:19.820109Z"
    }
   },
   "outputs": [],
   "source": [
    "processed = load_dataset(DATA_PATHS[\"processed\"])"
   ]
  },
  {
   "cell_type": "code",
   "execution_count": 18,
   "metadata": {
    "execution": {
     "iopub.execute_input": "2022-08-24T13:13:03.020870Z",
     "iopub.status.busy": "2022-08-24T13:13:03.020523Z",
     "iopub.status.idle": "2022-08-24T13:13:03.031141Z",
     "shell.execute_reply": "2022-08-24T13:13:03.030560Z",
     "shell.execute_reply.started": "2022-08-24T13:13:03.020847Z"
    }
   },
   "outputs": [
    {
     "data": {
      "text/plain": [
       "1791343"
      ]
     },
     "execution_count": 18,
     "metadata": {},
     "output_type": "execute_result"
    }
   ],
   "source": [
    "len(processed)"
   ]
  },
  {
   "cell_type": "code",
   "execution_count": null,
   "metadata": {},
   "outputs": [],
   "source": []
  }
 ],
 "metadata": {
  "interpreter": {
   "hash": "6b94098099f82b60877bbe0f5bf3016492ad37ed7c434d361dd7911ffa270414"
  },
  "kernelspec": {
   "display_name": "Python 3 (ipykernel)",
   "language": "python",
   "name": "python3"
  },
  "language_info": {
   "codemirror_mode": {
    "name": "ipython",
    "version": 3
   },
   "file_extension": ".py",
   "mimetype": "text/x-python",
   "name": "python",
   "nbconvert_exporter": "python",
   "pygments_lexer": "ipython3",
   "version": "3.8.12"
  }
 },
 "nbformat": 4,
 "nbformat_minor": 4
}
