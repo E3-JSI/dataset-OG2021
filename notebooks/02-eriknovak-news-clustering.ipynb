{
 "cells": [
  {
   "cell_type": "code",
   "execution_count": 1,
   "metadata": {
    "execution": {
     "iopub.execute_input": "2022-02-02T12:23:22.198708Z",
     "iopub.status.busy": "2022-02-02T12:23:22.198227Z",
     "iopub.status.idle": "2022-02-02T12:23:22.222966Z",
     "shell.execute_reply": "2022-02-02T12:23:22.222286Z",
     "shell.execute_reply.started": "2022-02-02T12:23:22.198581Z"
    }
   },
   "outputs": [],
   "source": [
    "# enable automatic reloading of the notebook\n",
    "%load_ext autoreload\n",
    "%autoreload 2"
   ]
  },
  {
   "cell_type": "markdown",
   "metadata": {},
   "source": [
    "# News Clustering\n",
    "\n",
    "This notebook contains the scripts to create news article clusters."
   ]
  },
  {
   "cell_type": "markdown",
   "metadata": {},
   "source": [
    "## Data Loading"
   ]
  },
  {
   "cell_type": "code",
   "execution_count": 2,
   "metadata": {
    "execution": {
     "iopub.execute_input": "2022-02-02T12:23:24.456439Z",
     "iopub.status.busy": "2022-02-02T12:23:24.456042Z",
     "iopub.status.idle": "2022-02-02T12:23:24.477420Z",
     "shell.execute_reply": "2022-02-02T12:23:24.476755Z",
     "shell.execute_reply.started": "2022-02-02T12:23:24.456390Z"
    }
   },
   "outputs": [],
   "source": [
    "# import the dataset loader\n",
    "from src.data.dataset import load_dataset, DATA_PATHS"
   ]
  },
  {
   "cell_type": "code",
   "execution_count": 3,
   "metadata": {
    "execution": {
     "iopub.execute_input": "2022-02-02T12:23:24.962171Z",
     "iopub.status.busy": "2022-02-02T12:23:24.961801Z",
     "iopub.status.idle": "2022-02-02T12:26:00.291282Z",
     "shell.execute_reply": "2022-02-02T12:26:00.290570Z",
     "shell.execute_reply.started": "2022-02-02T12:23:24.962122Z"
    }
   },
   "outputs": [],
   "source": [
    "# load the raw articles\n",
    "dataset = load_dataset(DATA_PATHS[\"processed\"])"
   ]
  },
  {
   "cell_type": "markdown",
   "metadata": {},
   "source": [
    "### Dataset Statistics"
   ]
  },
  {
   "cell_type": "code",
   "execution_count": 4,
   "metadata": {
    "execution": {
     "iopub.execute_input": "2022-02-02T12:26:03.242468Z",
     "iopub.status.busy": "2022-02-02T12:26:03.242186Z",
     "iopub.status.idle": "2022-02-02T12:26:03.445424Z",
     "shell.execute_reply": "2022-02-02T12:26:03.444679Z",
     "shell.execute_reply.started": "2022-02-02T12:26:03.242443Z"
    }
   },
   "outputs": [
    {
     "data": {
      "text/plain": [
       "1750325"
      ]
     },
     "execution_count": 4,
     "metadata": {},
     "output_type": "execute_result"
    }
   ],
   "source": [
    "# check how many articles were loaded\n",
    "len(dataset)"
   ]
  },
  {
   "cell_type": "code",
   "execution_count": 5,
   "metadata": {
    "execution": {
     "iopub.execute_input": "2022-02-02T12:26:03.447236Z",
     "iopub.status.busy": "2022-02-02T12:26:03.447076Z",
     "iopub.status.idle": "2022-02-02T12:26:03.601516Z",
     "shell.execute_reply": "2022-02-02T12:26:03.600663Z",
     "shell.execute_reply.started": "2022-02-02T12:26:03.447214Z"
    }
   },
   "outputs": [
    {
     "data": {
      "text/plain": [
       "{'uri': '1395062594',\n",
       " 'lang': 'eng',\n",
       " 'isDuplicate': False,\n",
       " 'date': datetime.datetime(2020, 1, 1, 0, 0),\n",
       " 'time': '00:01:00',\n",
       " 'dateTime': datetime.datetime(2020, 1, 1, 0, 1),\n",
       " 'dateTimePub': datetime.datetime(2020, 1, 1, 0, 1),\n",
       " 'dataType': 'news',\n",
       " 'sim': 0,\n",
       " 'url': 'https://www.bostonglobe.com/sports/2019/12/31/yearinsports/6YOUwYiMDlIqNQSKl2V13M/story.html',\n",
       " 'title': \"A look back at Boston's year in sports - The Boston Globe\",\n",
       " 'body': \"The Bruins exceeded expectations and came tantalizingly close to capturing a second title for the city, rolling all the way to the Stanley Cup Final before succumbing to the St. Louis Blues in seven games. Meanwhile, the Red Sox and Celtics underachieved, submitting disappointing performances in seasons in which both were expected to compete for a title.\\n\\nThere were notable figures who left town, whether it was a franchise tight end choosing to call it a career or a pair of All-Stars departing via free agency to compete for division rivals.\\n\\nAn unexpected run culminated in the state's flagship university skating all the way to the NCAA hockey championship game and boasting the top player in the country.\\n\\nAnd among the notable deaths in the sports world were a pair of beloved figures from the world of baseball whose all-too-soon passings bookended the year.\\n\\nHere's a look back at the year in sports.\\n\\n■ Appearing in their third Winter Classic, and first as the visiting team, the Bruins defeat the Chicago Blackhawks, 4-2, in front of 76,126 fans at Notre Dame Stadium.\\n\\n■ The Patriots advance to their 11th Super Bowl in franchise history by defeating a pair of AFC West foes in the playoffs. After handling the Chargers, the Patriots defeat the Chiefs in Kansas City in the conference championship with a thrilling 37-31 win in overtime.\\n\\n■ The Patriots defeat the Rams, 13-3, in Super Bowl LIII to capture their sixth title. Julian Edelman is named MVP after catching 10 passes for 141 yards.\\n\\n■ For the second straight year, the Patriots lose one of their top defensive assistant coaches when Brian Flores is named head coach of the Dolphins.\\n\\n■ After going 30 years between Beanpot championships, Northeastern wins its second straight with a 4-2 victory over Boston College.\\n\\n■ Celtics guard Kyrie Irving plays in the NBA All-Star Game despite missing the previous two games with a knee injury. Video of a conversation between him and Kevin Durant gives rise to speculation that the two free agents-to-be will look to play on the same team the following season.\\n\\n■ The Bruins pull off a pair of trades ahead of the NHL deadline, sending Ryan Donato to the Wild for Charlie Coyle, and prying Marcus Johansson from the Devils for a pair of draft picks.\\n\\n■ Tributes pour in from all over the baseball world after veteran Globe reporter Nick Cafardo collapses while covering the Red Sox at spring training and dies unexpectedly.\\n\\n■ NFL free agency gets underway, and the Patriots take a hit when defensive lineman Trey Flowers signs with the Lions and offensive tackle Trent Brown signs with the Raiders.\\n\\n■ Tight end Rob Gronkowski ends months of speculation and announces his retirement from football after nine seasons and three Super Bowl championships with the Patriots.\\n\\n■ BC High repeats as Super 8 champion by defeating Pope Francis, 2-1, in the longest hockey playoff game in MIAA history at 87 minutes and 22 seconds.\\n\\n■ Greg Schiano, thought to be the Patriots' next defensive coordinator, resigns from his position with the team.\\n\\n■ The UMass hockey team reaches the Frozen Four for the first time in program history, advancing to the championship game with an overtime win against Denver before losing to Minnesota-Duluth.\\n\\n■ Two days after winning the Hobey Baker Award, and one day after playing in the NCAA championship game, UMass defenseman Cale Makar signs with the Colorado Avalanche, then scores a goal on his first shot in the NHL in a playoff game.\\n\\n■ Lawrence Cherono outkicks former champion Lelisa Desisa to win the men's title in the Boston Marathon by two seconds in 2:07:57. Worknesh Degefa gets her first World Marathon Major victory, crossing the finish line in 2:23:31 to take the women's crown.\\n\\n■ After trailing their first-round series with the Maple Leafs, three games to two, the Bruins rally to win Game 6 in Toronto and Game 7 at home to advance to the second round.\\n\\n■ John Havlicek, the understated superstar who transformed an off-the-bench role into a Hall of Fame career and became the Celtics' all-time leading scorer, dies at 79. He had suffered from Parkinson's disease.\\n\\n■ The Patriots make 10 selections in the NFL Draft, beginning with wide receiver N'Keal Harry with the last pick of the first round.\\n\\n■ After sweeping the Pacers in the first round, the Celtics are bounced from the playoffs by the Bucks, losing in the Eastern Conference semifinals, four games to one.\\n\\n■ The Bruins sweep the Hurricanes to advance to their first Stanley Cup Final since 2013.\\n\\n■ The Red Sox place second baseman Dustin Pedroia on the 60-day disabled list with more knee woes, leaving his future uncertain.\\n\\n■ The Red Sox select Noah Song, a pitcher from the Naval Academy, in the fourth round of the MLB draft. Song's future with the organization is in limbo though, as the Chief Naval Officer at the Academy does not endorse his petition for an active-duty waiver of his service obligations.\\n\\n■ Despite suffering a broken jaw in Game 4, Bruins captain Zdeno Chara takes the ice for Game 5 of the Stanley Cup Final\\n\\n■ Retired Red Sox star David Ortiz is shot in the back at the Dial Bar and Lounge in the Dominican Republic.\\n\\n■ After leading the Braintree High girls' basketball team to four state championships in 10 years, and back-t0-back titles, Kristen McDonnell takes over as boys' basketball coach at Norwood.\\n\\n■ The Bruins lose Game 7 of the Stanley Cup Final at TD Garden to the Blues, 4-1.\\n\\n■ Former WNBA standout and television analyst Kara Lawson is hired by the Celtics as an assistant coach, becoming the first woman ever to coach for the team.\\n\\n■ The Celtics make four selections in the NBA draft and trade center Aron Baynes to the Suns.\\n\\n■ Despite scoring 21 runs on 33 hits in two games, the Red Sox are swept by the Yankees in their two-game series in London, falling 11½ games back.\\n\\n■ The Celtics lose two starters to conference rivals when Kyrie Irving signs with the Nets and Al Horford joins the 76ers. Danny Ainge comes up with a Plan B, though, and lands Kemba Walker.\\n\\n■ Seemingly as an afterthought, the Celtics sign 7-foot-5-inch rookie free agent center Tacko Fall to a contract after he was undrafted coming out of Central Florida. He impresses in the summer league, and earns a two-way contract.\\n\\n■ The United States defeats the Netherlands, 2-0, to win the Women's World Cup. Hanson's Sam Mewis, who played midfield, enjoys a hero's welcome upon returning to Massachusetts.\\n\\n■ Despite numerous holes to plug, particularly in the bullpen, the Red Sox stand pat at the trade deadline, setting the stage for a disappointing final two months of the season.\\n\\n■ Tom Brady agrees to a two-year extension with the Patriots, but the two years are voidable, meaning he could become a free agent in March 2020.\\n\\n■ Chris Sale is shut down by the Red Sox after getting an injection of platelet-rich plasma for his ailing left elbow, allowing him to avoid Tommy John surgery. He is shut down with a 6-11 record and 4.40 ERA for the season.\\n\\n■ Red Sox pitcher David Price is placed on the injured with a sore wrist. He will make just one more start before having surgery to remove a cyst. He finishes the season 7-5 with a 4.28 ERA.\\n\\n■ Celtics legend Bob Cousy receives the Presidential Medal of Freedom.\\n\\n■ The Celtics hire Harvard graduate and former WNBA player Allison Feaster as their director of player development.\\n\\n■ The Red Sox fire president of baseball operations Dave Dombrowski.\\n\\n■ Less than two weeks after signing him, the Patriots release wide receiver Antonio Brown after a string of allegations including rape, sexual assault, and harassment emerges.\\n\\n■ The Red Sox cap the regular season at 84-78 -- well out of the playoff race -- with a win over the Orioles. Eduardo Rodriguez comes up one short in his bid to reach 20 wins.\\n\\n■ Entering the final year of his rookie deal, Jaylen Brown agrees to a four-year contract extension with the Celtics.\\n\\n■ Two Massachusetts high school soccer players are suspended from all high school sports for a year by the MIAA for shoving an official after a boys' tournament game. The incident occurs several days after the Globe reports that national high school officials consider abusive treatment an epidemic that is driving a critical shortage of game officials.\\n\\n■ After starting the season 8-0, the Patriots are handed their first loss by the Ravens.\\n\\n■ Boston College coach Jerry York is inducted into the Hockey Hall of Fame. He is the fifth college coach to go in, but the only one who never coached in the NHL.\\n\\n■ Boston College fires football coach Steve Addazio after seven seasons.\\n\\n■ Speaking with reporters prior to his induction into the US Hockey Hall of Fame, former Bruins goalie Tim Thomas reveals his struggle with psychological and neurological health issues dating to his final NHL season in 2013-14.\\n\\n■ The Globe's Nick Cafardo wins the J.G. Taylor Spink Award for meritorous contributions in baseball writing.\\n\\n■ Former Boston College baseball star Pete Frates, who raised millions for ALS research by championing the Ice Bucket Challenge, dies at 34.\\n\\n■ The Patriots acknowledge that a video crew taped the Bengals sideline, breaking an NFL rule.\\n\\n■ The MIAA Board of Directors advances a proposal for a statewide high school tournament system. The proposal will head to the 380 member schools in 2020.\\n\\n■ For the first time since the 2009 season, the Patriots fail to clinch a first-round bye when they lose at home to the Dolphins, 27-24, in Week 17.\",\n",
       " 'source': {'uri': 'bostonglobe.com',\n",
       "  'dataType': 'news',\n",
       "  'title': 'The Boston Globe'},\n",
       " 'authors': [],\n",
       " 'image': 'https://bostonglobe-prod.cdn.arcpublishing.com/resizer/B1DmgDzKlpFzqa2qGShTUBvqMqU=/506x0/arc-anglerfish-arc2-prod-bostonglobe.s3.amazonaws.com/public/7YRIT7RIF4I6TKH37Z7FWY4QAI.jpg',\n",
       " 'eventUri': None,\n",
       " 'sentiment': 0.1529411764705881,\n",
       " 'wgt': 315532860,\n",
       " 'relevance': 39,\n",
       " 'concepts': ['basketball', 'nba']}"
      ]
     },
     "execution_count": 5,
     "metadata": {},
     "output_type": "execute_result"
    }
   ],
   "source": [
    "dataset[0]"
   ]
  },
  {
   "cell_type": "markdown",
   "metadata": {},
   "source": [
    "## Experiments"
   ]
  },
  {
   "cell_type": "markdown",
   "metadata": {},
   "source": [
    "### Prepare News Articles"
   ]
  },
  {
   "cell_type": "code",
   "execution_count": 6,
   "metadata": {
    "execution": {
     "iopub.execute_input": "2022-02-02T12:26:24.770159Z",
     "iopub.status.busy": "2022-02-02T12:26:24.769729Z",
     "iopub.status.idle": "2022-02-02T12:27:19.230895Z",
     "shell.execute_reply": "2022-02-02T12:27:19.230224Z",
     "shell.execute_reply.started": "2022-02-02T12:26:24.770108Z"
    }
   },
   "outputs": [],
   "source": [
    "from src.utils.NewsArticle import NewsArticle"
   ]
  },
  {
   "cell_type": "code",
   "execution_count": 7,
   "metadata": {
    "execution": {
     "iopub.execute_input": "2022-02-02T12:27:19.232557Z",
     "iopub.status.busy": "2022-02-02T12:27:19.232370Z",
     "iopub.status.idle": "2022-02-02T12:38:29.522254Z",
     "shell.execute_reply": "2022-02-02T12:38:29.521381Z",
     "shell.execute_reply.started": "2022-02-02T12:27:19.232532Z"
    }
   },
   "outputs": [],
   "source": [
    "articles = [NewsArticle(article) for article in dataset]"
   ]
  },
  {
   "cell_type": "code",
   "execution_count": 8,
   "metadata": {
    "execution": {
     "iopub.execute_input": "2022-02-02T12:38:29.524134Z",
     "iopub.status.busy": "2022-02-02T12:38:29.523888Z",
     "iopub.status.idle": "2022-02-02T12:38:29.554321Z",
     "shell.execute_reply": "2022-02-02T12:38:29.553860Z",
     "shell.execute_reply.started": "2022-02-02T12:38:29.524110Z"
    }
   },
   "outputs": [
    {
     "data": {
      "text/plain": [
       "NewsArticle(\n",
       "  title=A look back at Boston's year in sports - The Boston Globe,\n",
       "  lang=eng,\n",
       "  source=The Boston Globe,\n",
       "  time=1577833260.0,\n",
       "  url=https://www.bostonglobe.com/sports/2019/12/31/yearinsports/6YOUwYiMDlIqNQSKl2V13M/story.html,\n",
       ")"
      ]
     },
     "execution_count": 8,
     "metadata": {},
     "output_type": "execute_result"
    }
   ],
   "source": [
    "articles[0]"
   ]
  },
  {
   "cell_type": "code",
   "execution_count": 9,
   "metadata": {
    "execution": {
     "iopub.execute_input": "2022-02-02T12:38:29.555401Z",
     "iopub.status.busy": "2022-02-02T12:38:29.555185Z",
     "iopub.status.idle": "2022-02-02T12:38:29.711326Z",
     "shell.execute_reply": "2022-02-02T12:38:29.710296Z",
     "shell.execute_reply.started": "2022-02-02T12:38:29.555380Z"
    }
   },
   "outputs": [
    {
     "data": {
      "text/plain": [
       "NewsArticle(\n",
       "  title=Hot Button: Dorsey out as Browns GM ... Rhule denies interest ... Browns to interview Roman ... Gase won't ring Bell,\n",
       "  lang=eng,\n",
       "  source=DKPittsburghSports.com,\n",
       "  time=1577833320.0,\n",
       "  url=https://www.dkpittsburghsports.com/2019/12/31/new-hot-button/,\n",
       ")"
      ]
     },
     "execution_count": 9,
     "metadata": {},
     "output_type": "execute_result"
    }
   ],
   "source": [
    "articles[4]"
   ]
  },
  {
   "cell_type": "markdown",
   "metadata": {},
   "source": [
    "### Prepare News Event Monitor"
   ]
  },
  {
   "cell_type": "code",
   "execution_count": 10,
   "metadata": {
    "execution": {
     "iopub.execute_input": "2022-02-02T12:50:11.313770Z",
     "iopub.status.busy": "2022-02-02T12:50:11.313365Z",
     "iopub.status.idle": "2022-02-02T12:50:11.371453Z",
     "shell.execute_reply": "2022-02-02T12:50:11.370413Z",
     "shell.execute_reply.started": "2022-02-02T12:50:11.313719Z"
    }
   },
   "outputs": [],
   "source": [
    "from src.utils.NewsEventMonitor import NewsEventMonitor"
   ]
  },
  {
   "cell_type": "code",
   "execution_count": 14,
   "metadata": {
    "execution": {
     "iopub.execute_input": "2022-02-02T12:50:29.561083Z",
     "iopub.status.busy": "2022-02-02T12:50:29.560743Z",
     "iopub.status.idle": "2022-02-02T12:50:29.590062Z",
     "shell.execute_reply": "2022-02-02T12:50:29.589401Z",
     "shell.execute_reply.started": "2022-02-02T12:50:29.561042Z"
    },
    "tags": []
   },
   "outputs": [],
   "source": [
    "sim_threshold = 0.5\n",
    "time_threshold_in_days = 3\n",
    "time_compare_stat = \"min\""
   ]
  },
  {
   "cell_type": "code",
   "execution_count": 15,
   "metadata": {
    "execution": {
     "iopub.execute_input": "2022-02-02T12:50:30.694910Z",
     "iopub.status.busy": "2022-02-02T12:50:30.694542Z",
     "iopub.status.idle": "2022-02-02T12:50:30.726614Z",
     "shell.execute_reply": "2022-02-02T12:50:30.725908Z",
     "shell.execute_reply.started": "2022-02-02T12:50:30.694865Z"
    }
   },
   "outputs": [],
   "source": [
    "event_monitor = NewsEventMonitor(\n",
    "    sim_threshold=sim_threshold, \n",
    "    time_threshold_in_days=time_threshold_in_days, \n",
    "    time_compare_stat=time_compare_stat\n",
    ")"
   ]
  },
  {
   "cell_type": "markdown",
   "metadata": {},
   "source": [
    "### Cluster News Articles"
   ]
  },
  {
   "cell_type": "code",
   "execution_count": 16,
   "metadata": {
    "execution": {
     "iopub.execute_input": "2022-02-02T12:50:33.729647Z",
     "iopub.status.busy": "2022-02-02T12:50:33.729239Z",
     "iopub.status.idle": "2022-02-02T12:50:33.760399Z",
     "shell.execute_reply": "2022-02-02T12:50:33.759729Z",
     "shell.execute_reply.started": "2022-02-02T12:50:33.729596Z"
    }
   },
   "outputs": [],
   "source": [
    "from tqdm.notebook import tqdm"
   ]
  },
  {
   "cell_type": "code",
   "execution_count": 17,
   "metadata": {
    "execution": {
     "iopub.execute_input": "2022-02-02T12:50:36.716034Z",
     "iopub.status.busy": "2022-02-02T12:50:36.715630Z",
     "iopub.status.idle": "2022-02-02T13:00:16.016862Z",
     "shell.execute_reply": "2022-02-02T13:00:16.015923Z",
     "shell.execute_reply.started": "2022-02-02T12:50:36.715983Z"
    }
   },
   "outputs": [
    {
     "data": {
      "application/vnd.jupyter.widget-view+json": {
       "model_id": "580e2bb00eb7487f90abc29df7024e86",
       "version_major": 2,
       "version_minor": 0
      },
      "text/plain": [
       "Article Feed:   0%|          | 0/1000 [00:00<?, ?it/s]"
      ]
     },
     "metadata": {},
     "output_type": "display_data"
    }
   ],
   "source": [
    "for article in tqdm(articles[:1000], desc=\"Article Feed\"):\n",
    "    event_monitor.update(article)"
   ]
  },
  {
   "cell_type": "code",
   "execution_count": 18,
   "metadata": {
    "execution": {
     "iopub.execute_input": "2022-02-02T14:49:13.269349Z",
     "iopub.status.busy": "2022-02-02T14:49:13.268905Z",
     "iopub.status.idle": "2022-02-02T14:49:13.311842Z",
     "shell.execute_reply": "2022-02-02T14:49:13.310829Z",
     "shell.execute_reply.started": "2022-02-02T14:49:13.269294Z"
    }
   },
   "outputs": [],
   "source": [
    "events = event_monitor.get_events()"
   ]
  },
  {
   "cell_type": "code",
   "execution_count": 22,
   "metadata": {
    "execution": {
     "iopub.execute_input": "2022-02-03T10:12:23.905563Z",
     "iopub.status.busy": "2022-02-03T10:12:23.905089Z",
     "iopub.status.idle": "2022-02-03T10:12:23.944013Z",
     "shell.execute_reply": "2022-02-03T10:12:23.943331Z",
     "shell.execute_reply.started": "2022-02-03T10:12:23.905487Z"
    },
    "tags": []
   },
   "outputs": [
    {
     "data": {
      "text/plain": [
       "[NewsArticle(\n",
       "   title=LeBron James es elegido el mejor deportista de la década,\n",
       "   lang=spa,\n",
       "   source=Líbero Perú,\n",
       "   time=1577833320.0,\n",
       "   url=https://libero.pe/deportes/basquet/1528528-lebron-james-basquetbolista-nombrado-mejor-deportista-decada-ap-nba,\n",
       " ),\n",
       " NewsArticle(\n",
       "   title=LeBron James' HS Rival Reveals Lakers' Anthony Davis Is Tim Duncan's Clone,\n",
       "   lang=eng,\n",
       "   source=Heavy,\n",
       "   time=1577833980.0,\n",
       "   url=https://heavy.com/sports/2019/12/tim-duncan-anthony-davis/,\n",
       " ),\n",
       " NewsArticle(\n",
       "   title=LeBron disputes eighth grade yearbook's \"Most Athletic\" choice,\n",
       "   lang=eng,\n",
       "   source=ESPN.com,\n",
       "   time=1577836380.0,\n",
       "   url=https://www.espn.com/nba/story/_/id/28401837/despite-yearbook-claim-lebron-says-was-most-athletic-eighth-grader-class,\n",
       " ),\n",
       " NewsArticle(\n",
       "   title=George just misses triple-double, Clippers beat Kings 105-87,\n",
       "   lang=eng,\n",
       "   source=ABS-CBN News,\n",
       "   time=1577836740.0,\n",
       "   url=http://sports.abs-cbn.com/nba/news/2020/01/01/george-just-misses-triple-double-clippers-beat-kings-105-87-64734,\n",
       " ),\n",
       " NewsArticle(\n",
       "   title=LeBron James threw a last-minute birthday party for himself to help Lakers bond,\n",
       "   lang=eng,\n",
       "   source=Los Angeles Times,\n",
       "   time=1577838000.0,\n",
       "   url=https://www.latimes.com/sports/lakers/story/2019-12-31/lebron-james-birthday-party-lakers-bonding,\n",
       " ),\n",
       " NewsArticle(\n",
       "   title=Gilgeous-Alexander ties career high of 32 points in Thunder's win over Raptors,\n",
       "   lang=eng,\n",
       "   source=northeastNOW,\n",
       "   time=1577839080.0,\n",
       "   url=https://northeastnow.com/2019/12/31/gilgeous-alexander-ties-career-high-of-32-points-in-thunders-win-over-raptors-2/,\n",
       " ),\n",
       " NewsArticle(\n",
       "   title=UNC Basketball: Sacramento Kings, Harrison Barnes continue slump,\n",
       "   lang=eng,\n",
       "   source=Keeping It Heel,\n",
       "   time=1577841180.0,\n",
       "   url=https://keepingitheel.com/2019/12/31/unc-basketball-sacramento-kings-harrison-barnes-continue-slump/,\n",
       " ),\n",
       " NewsArticle(\n",
       "   title=Superstars comprise Duke basketball all-decade team,\n",
       "   lang=eng,\n",
       "   source=ArcaMax,\n",
       "   time=1577841720.0,\n",
       "   url=https://www.arcamax.com/sports/basketball/s-2310779,\n",
       " ),\n",
       " NewsArticle(\n",
       "   title=Hurt, Jones help No. 2 Duke beat Boston College 88-49 in ACC - CollegeBasketballTalk | NBC Sports,\n",
       "   lang=eng,\n",
       "   source=NBC Sports,\n",
       "   time=1577841720.0,\n",
       "   url=https://collegebasketball.nbcsports.com/2019/12/31/hurt-jones-help-no-2-duke-beat-boston-college-88-49-in-acc/,\n",
       " ),\n",
       " NewsArticle(\n",
       "   title=LeBron disputes eighth-grade yearbook's 'most athletic' choice - VTN News Networks,\n",
       "   lang=eng,\n",
       "   source=VT News Networks,\n",
       "   time=1577841960.0,\n",
       "   url=https://vtn.co/2020/01/01/lebron-disputes-eighth-grade-yearbooks-most-athletic-choice/,\n",
       " ),\n",
       " NewsArticle(\n",
       "   title=All the King's friends: Inside stories about LeBron - VTN News Networks,\n",
       "   lang=eng,\n",
       "   source=VT News Networks,\n",
       "   time=1577841960.0,\n",
       "   url=https://vtn.co/2020/01/01/all-the-kings-friends-inside-stories-about-lebron/,\n",
       " ),\n",
       " NewsArticle(\n",
       "   title=Kings' failure to find offensive tempo driving losing skid,\n",
       "   lang=eng,\n",
       "   source=NBC Sports,\n",
       "   time=1577844000.0,\n",
       "   url=https://www.nbcsports.com/bayarea/kings/kings-failure-find-offensive-tempo-drives-eight-game-losing-streak,\n",
       " ),\n",
       " NewsArticle(\n",
       "   title=No. 11 Butler blows 23-point lead, survives St. John's 60-58 - CollegeBasketballTalk | NBC Sports,\n",
       "   lang=eng,\n",
       "   source=NBC Sports,\n",
       "   time=1577846520.0,\n",
       "   url=https://collegebasketball.nbcsports.com/2019/12/31/no-11-butler-blows-23-point-lead-survives-st-johns-60-58/,\n",
       " ),\n",
       " NewsArticle(\n",
       "   title=Gallinari, Schroder score 20 each as Thunder beat Dallas,\n",
       "   lang=eng,\n",
       "   source=ABS-CBN News,\n",
       "   time=1577848740.0,\n",
       "   url=http://sports.abs-cbn.com/nba/news/2020/01/01/gallinari-schroder-score-20-thunder-beat-dallas-64738,\n",
       " ),\n",
       " NewsArticle(\n",
       "   title=DeRozan, Spurs escape Warriors in overtime, 117-113,\n",
       "   lang=eng,\n",
       "   source=ABS-CBN News,\n",
       "   time=1577848740.0,\n",
       "   url=http://sports.abs-cbn.com/nba/news/2020/01/01/derozan-spurs-escape-warriors-overtime-117-113-64735,\n",
       " ),\n",
       " NewsArticle(\n",
       "   title=Gallinari, Schroder score 20 each as Thunder beat Dallas | Federal News Network,\n",
       "   lang=eng,\n",
       "   source=Federal News Network,\n",
       "   time=1577851740.0,\n",
       "   url=https://federalnewsnetwork.com/sports-news/2019/12/gallinari-schroder-score-20-each-as-thunder-beat-dallas/,\n",
       " ),\n",
       " NewsArticle(\n",
       "   title=Superzvezdnik enostavno NE POČIVA! Luki Dončiću se je namreč TO ZGODILO PRVIČ v karieri,\n",
       "   lang=slv,\n",
       "   source=Ekipa24.si,\n",
       "   time=1577854320.0,\n",
       "   url=https://ekipa.svet24.si/clanek/kosarka/slovenci-v-tujini/5e0c1eb4d0c7e/cudezni-decek-enostavno-ne-pociva-luki-doncicu-se-je-namrec-to-zgodilo-prvic-v-karieri,\n",
       " ),\n",
       " NewsArticle(\n",
       "   title=The King Reigns: LeBron James Is AP's Male Athlete Of Decade,\n",
       "   lang=eng,\n",
       "   source=CBS Los Angeles,\n",
       "   time=1577855400.0,\n",
       "   url=https://losangeles.cbslocal.com/2019/12/31/the-king-reigns-lebron-james-is-aps-male-athlete-of-decade/,\n",
       " ),\n",
       " NewsArticle(\n",
       "   title=LeBron's bizarre yearbook unveiled,\n",
       "   lang=eng,\n",
       "   source=The Courier Mail,\n",
       "   time=1577856780.0,\n",
       "   url=https://www.couriermail.com.au/sport/us-sports/nba/lebron-james-not-chosen-as-most-athletic-among-eighth-grade-peers/news-story/b2ef06dcfbe39e5d7eb197c95e731146,\n",
       " ),\n",
       " NewsArticle(\n",
       "   title=Osamljeni Dončić premalo za zmago Dallasa,\n",
       "   lang=slv,\n",
       "   source=STA d.o.o.,\n",
       "   time=1577857140.0,\n",
       "   url=http://www.sta.si/http.php?id=2713213,\n",
       " ),\n",
       " NewsArticle(\n",
       "   title=Saltan las alarmas en los Sixers: dolorosa derrota en Indiana,\n",
       "   lang=spa,\n",
       "   source=as,\n",
       "   time=1577857200.0,\n",
       "   url=https://as.com/baloncesto/2020/01/01/nba/1577860372_403583.html,\n",
       " ),\n",
       " NewsArticle(\n",
       "   title=Osamljeni Dončić premalo za zmago Dallasa,\n",
       "   lang=slv,\n",
       "   source=STA d.o.o.,\n",
       "   time=1577857200.0,\n",
       "   url=http://www.sta.si/http.php?id=2713215,\n",
       " ),\n",
       " NewsArticle(\n",
       "   title=James Harden se aproxima de marcas de Michael Jordan e 'assombra' a NBA - Portal T5,\n",
       "   lang=por,\n",
       "   source=Portal T5,\n",
       "   time=1577858400.0,\n",
       "   url=https://www.portalt5.com.br/noticias/esportes/2020/1/283970-james-harden-se-aproxima-de-marcas-de-michael-jordan-e-assombra-a-nba,\n",
       " ),\n",
       " NewsArticle(\n",
       "   title=New York Knicks: o time de R$ 16 bilhões que coleciona fracassos há 20 anos,\n",
       "   lang=por,\n",
       "   source=uol.com.br,\n",
       "   time=1577859060.0,\n",
       "   url=https://www.uol.com.br/esporte/basquete/ultimas-noticias/2020/01/01/new-york-knicks-o-time-de-r-16-bilhoes-que-coleciona-fracassos-ha-20-anos.htm,\n",
       " ),\n",
       " NewsArticle(\n",
       "   title=Bonne année, Harden, PL, Garmisch, mercato : l'actu sur un plateau,\n",
       "   lang=fra,\n",
       "   source=Eurosport,\n",
       "   time=1577860920.0,\n",
       "   url=https://www.eurosport.fr/omnisport/bonne-annee-harden-pl-garmisch-mercato-l-actu-sur-un-plateau_sto7592833/story.shtml,\n",
       " ),\n",
       " NewsArticle(\n",
       "   title=Bonne année, Harden, PL, Garmisch, mercato : l'actu sur un plateau,\n",
       "   lang=fra,\n",
       "   source=Eurosport,\n",
       "   time=1577860920.0,\n",
       "   url=https://www.eurosport.fr/omnisport/bonne-annee-harden-pl-garmisch-mercato-l-actu-sur-un-plateau_sto7592833/story.shtml,\n",
       " ),\n",
       " NewsArticle(\n",
       "   title=Ancien joueur de haut niveau, le Comte de Bouderbala décerne ses trophées NBA,\n",
       "   lang=fra,\n",
       "   source=lejdd.fr,\n",
       "   time=1577862840.0,\n",
       "   url=https://www.lejdd.fr/Sport/Basket/ancien-joueur-de-haut-niveau-le-comte-de-bouderbala-decerne-ses-trophees-nba-3940112,\n",
       " ),\n",
       " NewsArticle(\n",
       "   title=Pacers rout Embiid-less Sixers,\n",
       "   lang=eng,\n",
       "   source=Rappler,\n",
       "   time=1577864580.0,\n",
       "   url=http://www.rappler.com/sports/by-sport/basketball/nba/248328-game-results-pacers-sixers-december-31-2019,\n",
       " ),\n",
       " NewsArticle(\n",
       "   title=Osamljeni Dončić premalo za zmago Dallasa (dopolnjeno),\n",
       "   lang=slv,\n",
       "   source=STA d.o.o.,\n",
       "   time=1577865300.0,\n",
       "   url=http://www.sta.si/http.php?id=2713234,\n",
       " ),\n",
       " NewsArticle(\n",
       "   title=Basketball: Oklahoma rally from seven-point deficit in the final,\n",
       "   lang=eng,\n",
       "   source=The Straits Times,\n",
       "   time=1577868240.0,\n",
       "   url=https://www.straitstimes.com/sport/basketball/basketball-oklahoma-rally-from-seven-point-deficit-in-the-final-three-minutes-to,\n",
       " ),\n",
       " NewsArticle(\n",
       "   title=NBA objasnila strogo kazen za napad na Dončića,\n",
       "   lang=slv,\n",
       "   source=Spletni portal, ki mu lahko zaupate - Žurnal24,\n",
       "   time=1577868660.0,\n",
       "   url=https://zurnal24.si/sport/kosarka/nba-objasnila-strogo-kazen-za-napad-na-doncica-339550,\n",
       " ),\n",
       " NewsArticle(\n",
       "   title=The King reigns: LeBron James is AP's male athlete of decade,\n",
       "   lang=eng,\n",
       "   source=West Hawaii Today,\n",
       "   time=1577870220.0,\n",
       "   url=https://www.westhawaiitoday.com/2020/01/01/sports/the-king-reigns-lebron-james-is-aps-male-athlete-of-decade/,\n",
       " ),\n",
       " NewsArticle(\n",
       "   title=Kako je to mogoče? Dončić je dal 35 točk, pa vseeno izgubil.,\n",
       "   lang=slv,\n",
       "   source=SiOL,\n",
       "   time=1577872260.0,\n",
       "   url=https://siol.net/sportal/kosarka/kako-je-to-mogoce-doncic-je-dal-35-tock-pa-vseeno-izgubil-515440,\n",
       " ),\n",
       " NewsArticle(\n",
       "   title=Michigan State all-decade team: Cassius, Draymond and more,\n",
       "   lang=eng,\n",
       "   source=Detroit Free Press,\n",
       "   time=1577874000.0,\n",
       "   url=https://www.freep.com/story/sports/college/michigan-state/spartans/2020/01/01/michigan-state-basketball-all-decade-team-2010-2019/2783299001/,\n",
       " ),\n",
       " NewsArticle(\n",
       "   title=Kerr explota contra el baloncesto moderno: \"Los jugadores sólo quieren engañar\",\n",
       "   lang=spa,\n",
       "   source=MARCA,\n",
       "   time=1577875920.0,\n",
       "   url=https://www.marca.com/baloncesto/nba/2020/01/01/5e0c82b722601dfd7b8b45bb.html,\n",
       " ),\n",
       " NewsArticle(\n",
       "   title=The progress card of 10 European NBA draft prospects | Eurohoops,\n",
       "   lang=eng,\n",
       "   source=Eurohoops,\n",
       "   time=1577875920.0,\n",
       "   url=https://www.eurohoops.net/en/trademarks/994454/the-progress-card-of-10-european-nba-draft-prospects/,\n",
       " ),\n",
       " NewsArticle(\n",
       "   title=Dončić iskreno o BRUTALNEM TRENINGU z MVP-jem lige NBA: Je boljši kot jaz, želim biti kot on,\n",
       "   lang=slv,\n",
       "   source=Ekipa24.si,\n",
       "   time=1577875920.0,\n",
       "   url=https://ekipa.svet24.si/clanek/kosarka/slovenci-v-tujini/5e0c7dbd8b029/doncic-iskreno-o-brutalnem-treningu-z-mvp-jem-lige-nba-je-boljsi-kot-jaz-zelim-biti-kot-on,\n",
       " )]"
      ]
     },
     "execution_count": 22,
     "metadata": {},
     "output_type": "execute_result"
    }
   ],
   "source": [
    "events[3].articles"
   ]
  },
  {
   "cell_type": "code",
   "execution_count": null,
   "metadata": {},
   "outputs": [],
   "source": []
  }
 ],
 "metadata": {
  "interpreter": {
   "hash": "6b94098099f82b60877bbe0f5bf3016492ad37ed7c434d361dd7911ffa270414"
  },
  "kernelspec": {
   "display_name": "Python 3 (ipykernel)",
   "language": "python",
   "name": "python3"
  },
  "language_info": {
   "codemirror_mode": {
    "name": "ipython",
    "version": 3
   },
   "file_extension": ".py",
   "mimetype": "text/x-python",
   "name": "python",
   "nbconvert_exporter": "python",
   "pygments_lexer": "ipython3",
   "version": "3.8.12"
  }
 },
 "nbformat": 4,
 "nbformat_minor": 4
}
