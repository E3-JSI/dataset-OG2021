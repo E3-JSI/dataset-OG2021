{
 "cells": [
  {
   "cell_type": "code",
   "execution_count": 1,
   "metadata": {},
   "outputs": [],
   "source": [
    "# enable automatic reloading of the notebook\n",
    "%load_ext autoreload\n",
    "%autoreload 2"
   ]
  },
  {
   "cell_type": "code",
   "execution_count": 2,
   "metadata": {},
   "outputs": [],
   "source": [
    "import ast\n",
    "import numpy as np\n",
    "import pandas as pd\n",
    "\n",
    "from src.utils.NewsArticle import NewsArticle\n",
    "from src.utils.NewsEvent import NewsEventBase"
   ]
  },
  {
   "cell_type": "markdown",
   "metadata": {},
   "source": [
    "##### Constants"
   ]
  },
  {
   "cell_type": "code",
   "execution_count": 3,
   "metadata": {},
   "outputs": [],
   "source": [
    "DATASET_FILE_PATH = \"../data/final/og2021.csv\""
   ]
  },
  {
   "cell_type": "markdown",
   "metadata": {},
   "source": [
    "##### Helper functions"
   ]
  },
  {
   "cell_type": "code",
   "execution_count": 4,
   "metadata": {},
   "outputs": [],
   "source": [
    "def literal_converter(val):\n",
    "    try:\n",
    "        return ast.literal_eval(val)\n",
    "    except Exception:\n",
    "        return val"
   ]
  },
  {
   "cell_type": "code",
   "execution_count": 5,
   "metadata": {},
   "outputs": [],
   "source": [
    "def load_dataset(input_file):\n",
    "    df = pd.read_csv(\n",
    "        input_file,\n",
    "        names=[\n",
    "            \"id\",\n",
    "            \"title\",\n",
    "            \"body\",\n",
    "            \"lang\",\n",
    "            \"source\",\n",
    "            \"dateTime\",\n",
    "            \"url\",\n",
    "            \"uri\",\n",
    "            \"eventUri\",\n",
    "            \"concepts\",\n",
    "            \"clusterId\",\n",
    "        ],\n",
    "        dtype={\n",
    "            \"title\": \"str\",\n",
    "            \"body\": \"str\",\n",
    "            \"lang\": \"str\",\n",
    "            \"source\": \"str\",\n",
    "            \"dateTime\": \"str\",\n",
    "            \"url\": \"str\",\n",
    "            \"uri\": \"str\",\n",
    "            \"eventUri\": \"str\",\n",
    "            \"concepts\": \"str\",\n",
    "            \"clusterId\": \"str\",\n",
    "            \"id\": \"Int64\",\n",
    "        },\n",
    "        parse_dates=[\"dateTime\"],\n",
    "        on_bad_lines=\"warn\",\n",
    "        engine=\"python\",\n",
    "        skiprows=1,\n",
    "    )\n",
    "\n",
    "    return df"
   ]
  },
  {
   "cell_type": "markdown",
   "metadata": {},
   "source": [
    "# Load OG2021 dataset"
   ]
  },
  {
   "cell_type": "code",
   "execution_count": 6,
   "metadata": {},
   "outputs": [],
   "source": [
    "label_df = load_dataset(DATASET_FILE_PATH)"
   ]
  },
  {
   "cell_type": "code",
   "execution_count": 7,
   "metadata": {},
   "outputs": [
    {
     "data": {
      "text/html": [
       "<div>\n",
       "<style scoped>\n",
       "    .dataframe tbody tr th:only-of-type {\n",
       "        vertical-align: middle;\n",
       "    }\n",
       "\n",
       "    .dataframe tbody tr th {\n",
       "        vertical-align: top;\n",
       "    }\n",
       "\n",
       "    .dataframe thead th {\n",
       "        text-align: right;\n",
       "    }\n",
       "</style>\n",
       "<table border=\"1\" class=\"dataframe\">\n",
       "  <thead>\n",
       "    <tr style=\"text-align: right;\">\n",
       "      <th></th>\n",
       "      <th>id</th>\n",
       "      <th>title</th>\n",
       "      <th>body</th>\n",
       "      <th>lang</th>\n",
       "      <th>source</th>\n",
       "      <th>dateTime</th>\n",
       "      <th>url</th>\n",
       "      <th>uri</th>\n",
       "      <th>eventUri</th>\n",
       "      <th>concepts</th>\n",
       "      <th>clusterId</th>\n",
       "    </tr>\n",
       "  </thead>\n",
       "  <tbody>\n",
       "    <tr>\n",
       "      <th>0</th>\n",
       "      <td>0</td>\n",
       "      <td>Iran's Basketball Team Held At Airport Over 'U...</td>\n",
       "      <td>Incident comes weeks ahead of Tokyo Olympics, ...</td>\n",
       "      <td>eng</td>\n",
       "      <td>Haberler.com</td>\n",
       "      <td>2021-07-01 06:01:00</td>\n",
       "      <td>https://en.haberler.com/iran-s-basketball-team...</td>\n",
       "      <td>6628239427</td>\n",
       "      <td>NaN</td>\n",
       "      <td>['olympic_games', 'japan', 'basketball']</td>\n",
       "      <td>wn-1</td>\n",
       "    </tr>\n",
       "    <tr>\n",
       "      <th>1</th>\n",
       "      <td>1</td>\n",
       "      <td>Olympics latest: Samoa participation in doubt ...</td>\n",
       "      <td>TOKYO -- The July 23 opening ceremony of the d...</td>\n",
       "      <td>eng</td>\n",
       "      <td>Nikkei Asia</td>\n",
       "      <td>2021-07-01 08:51:00</td>\n",
       "      <td>https://asia.nikkei.com/Spotlight/Tokyo-2020-O...</td>\n",
       "      <td>6628362266</td>\n",
       "      <td>eng-6899867</td>\n",
       "      <td>['olympic_games', 'japan', 'basketball']</td>\n",
       "      <td>wn-2</td>\n",
       "    </tr>\n",
       "    <tr>\n",
       "      <th>2</th>\n",
       "      <td>2</td>\n",
       "      <td>What Do the Olympics Have Against Women?</td>\n",
       "      <td>Yes, I am talking about how Laurel Hubbard, a ...</td>\n",
       "      <td>eng</td>\n",
       "      <td>Townhall</td>\n",
       "      <td>2021-07-01 08:54:00</td>\n",
       "      <td>https://townhall.com/tipsheet/rebeccadowns/202...</td>\n",
       "      <td>6628364007</td>\n",
       "      <td>eng-6906275</td>\n",
       "      <td>['olympic_games', 'japan', 'basketball']</td>\n",
       "      <td>wn-3</td>\n",
       "    </tr>\n",
       "    <tr>\n",
       "      <th>3</th>\n",
       "      <td>3</td>\n",
       "      <td>Breastfeeding Mother Granted Permission To Bri...</td>\n",
       "      <td>Breastfeeding mothers competing at the Olympic...</td>\n",
       "      <td>eng</td>\n",
       "      <td>www.sportbible.com</td>\n",
       "      <td>2021-07-01 10:10:00</td>\n",
       "      <td>https://www.sportbible.com/australia/news-brea...</td>\n",
       "      <td>6628423216</td>\n",
       "      <td>eng-6906275</td>\n",
       "      <td>['olympic_games', 'japan', 'basketball']</td>\n",
       "      <td>wn-4</td>\n",
       "    </tr>\n",
       "    <tr>\n",
       "      <th>4</th>\n",
       "      <td>4</td>\n",
       "      <td>Sports News | Breastfeeding Olympians Allowed ...</td>\n",
       "      <td>Canadian basketball player Kim Gaucher, who is...</td>\n",
       "      <td>eng</td>\n",
       "      <td>LatestLY</td>\n",
       "      <td>2021-07-01 10:20:00</td>\n",
       "      <td>https://www.latestly.com/agency-news/sports-ne...</td>\n",
       "      <td>6628431262</td>\n",
       "      <td>eng-6906275</td>\n",
       "      <td>['olympic_games', 'japan', 'basketball']</td>\n",
       "      <td>wn-4</td>\n",
       "    </tr>\n",
       "    <tr>\n",
       "      <th>...</th>\n",
       "      <td>...</td>\n",
       "      <td>...</td>\n",
       "      <td>...</td>\n",
       "      <td>...</td>\n",
       "      <td>...</td>\n",
       "      <td>...</td>\n",
       "      <td>...</td>\n",
       "      <td>...</td>\n",
       "      <td>...</td>\n",
       "      <td>...</td>\n",
       "      <td>...</td>\n",
       "    </tr>\n",
       "    <tr>\n",
       "      <th>10935</th>\n",
       "      <td>10935</td>\n",
       "      <td>Juegos Olímpicos ganaron aceptación entre much...</td>\n",
       "      <td>Antes, muchos japoneses mostraron su reticenci...</td>\n",
       "      <td>spa</td>\n",
       "      <td>www.diariolibre.com</td>\n",
       "      <td>2021-08-13 18:36:00</td>\n",
       "      <td>https://www.diariolibre.com/deportes/olimpismo...</td>\n",
       "      <td>6686899243</td>\n",
       "      <td>spa-2454564</td>\n",
       "      <td>['olympic_games', 'japan', 'judo']</td>\n",
       "      <td>wn-1347</td>\n",
       "    </tr>\n",
       "    <tr>\n",
       "      <th>10936</th>\n",
       "      <td>10936</td>\n",
       "      <td>Japón, al final, se dejó 'seducir' por los Jue...</td>\n",
       "      <td>Por ahora, hay en muchos japoneses un sentimie...</td>\n",
       "      <td>spa</td>\n",
       "      <td>El Financiero</td>\n",
       "      <td>2021-08-13 21:09:00</td>\n",
       "      <td>https://www.elfinanciero.com.mx/tokio-2020/202...</td>\n",
       "      <td>6687117130</td>\n",
       "      <td>spa-2454564</td>\n",
       "      <td>['olympic_games', 'japan', 'judo']</td>\n",
       "      <td>wn-1347</td>\n",
       "    </tr>\n",
       "    <tr>\n",
       "      <th>10937</th>\n",
       "      <td>10937</td>\n",
       "      <td>Películas esenciales por si te clavaste con el...</td>\n",
       "      <td>La brasileña Rayssa Leal se robó el corazón de...</td>\n",
       "      <td>spa</td>\n",
       "      <td>Chilango</td>\n",
       "      <td>2021-08-13 23:08:00</td>\n",
       "      <td>https://www.chilango.com/cine-y-tv/peliculas-e...</td>\n",
       "      <td>6687247369</td>\n",
       "      <td>NaN</td>\n",
       "      <td>['olympic_games', 'japan', 'skateboarding']</td>\n",
       "      <td>wn-1350</td>\n",
       "    </tr>\n",
       "    <tr>\n",
       "      <th>10938</th>\n",
       "      <td>10938</td>\n",
       "      <td>El alcalde japonés que le tocó ofrecer disculp...</td>\n",
       "      <td>Por una escena transmitida por televisión, que...</td>\n",
       "      <td>spa</td>\n",
       "      <td>Récord</td>\n",
       "      <td>2021-08-14 02:47:00</td>\n",
       "      <td>https://record.acento.com.do/polideportivo/el-...</td>\n",
       "      <td>6687444123</td>\n",
       "      <td>spa-2455119</td>\n",
       "      <td>['olympic_games', 'japan', 'judo']</td>\n",
       "      <td>wn-1349</td>\n",
       "    </tr>\n",
       "    <tr>\n",
       "      <th>10939</th>\n",
       "      <td>10939</td>\n",
       "      <td>Juegos Olímpicos fueron aceptados por muchos j...</td>\n",
       "      <td>En los momentos en que comenzaban los Juegos O...</td>\n",
       "      <td>spa</td>\n",
       "      <td>El Informador Venezuela</td>\n",
       "      <td>2021-08-14 04:25:00</td>\n",
       "      <td>https://www.elinformadorvenezuela.com/deportes...</td>\n",
       "      <td>6687517349</td>\n",
       "      <td>spa-2454564</td>\n",
       "      <td>['olympic_games', 'japan', 'judo']</td>\n",
       "      <td>wn-1347</td>\n",
       "    </tr>\n",
       "  </tbody>\n",
       "</table>\n",
       "<p>10940 rows × 11 columns</p>\n",
       "</div>"
      ],
      "text/plain": [
       "          id                                              title  \\\n",
       "0          0  Iran's Basketball Team Held At Airport Over 'U...   \n",
       "1          1  Olympics latest: Samoa participation in doubt ...   \n",
       "2          2           What Do the Olympics Have Against Women?   \n",
       "3          3  Breastfeeding Mother Granted Permission To Bri...   \n",
       "4          4  Sports News | Breastfeeding Olympians Allowed ...   \n",
       "...      ...                                                ...   \n",
       "10935  10935  Juegos Olímpicos ganaron aceptación entre much...   \n",
       "10936  10936  Japón, al final, se dejó 'seducir' por los Jue...   \n",
       "10937  10937  Películas esenciales por si te clavaste con el...   \n",
       "10938  10938  El alcalde japonés que le tocó ofrecer disculp...   \n",
       "10939  10939  Juegos Olímpicos fueron aceptados por muchos j...   \n",
       "\n",
       "                                                    body lang  \\\n",
       "0      Incident comes weeks ahead of Tokyo Olympics, ...  eng   \n",
       "1      TOKYO -- The July 23 opening ceremony of the d...  eng   \n",
       "2      Yes, I am talking about how Laurel Hubbard, a ...  eng   \n",
       "3      Breastfeeding mothers competing at the Olympic...  eng   \n",
       "4      Canadian basketball player Kim Gaucher, who is...  eng   \n",
       "...                                                  ...  ...   \n",
       "10935  Antes, muchos japoneses mostraron su reticenci...  spa   \n",
       "10936  Por ahora, hay en muchos japoneses un sentimie...  spa   \n",
       "10937  La brasileña Rayssa Leal se robó el corazón de...  spa   \n",
       "10938  Por una escena transmitida por televisión, que...  spa   \n",
       "10939  En los momentos en que comenzaban los Juegos O...  spa   \n",
       "\n",
       "                        source            dateTime  \\\n",
       "0                 Haberler.com 2021-07-01 06:01:00   \n",
       "1                  Nikkei Asia 2021-07-01 08:51:00   \n",
       "2                     Townhall 2021-07-01 08:54:00   \n",
       "3           www.sportbible.com 2021-07-01 10:10:00   \n",
       "4                     LatestLY 2021-07-01 10:20:00   \n",
       "...                        ...                 ...   \n",
       "10935      www.diariolibre.com 2021-08-13 18:36:00   \n",
       "10936            El Financiero 2021-08-13 21:09:00   \n",
       "10937                 Chilango 2021-08-13 23:08:00   \n",
       "10938                   Récord 2021-08-14 02:47:00   \n",
       "10939  El Informador Venezuela 2021-08-14 04:25:00   \n",
       "\n",
       "                                                     url         uri  \\\n",
       "0      https://en.haberler.com/iran-s-basketball-team...  6628239427   \n",
       "1      https://asia.nikkei.com/Spotlight/Tokyo-2020-O...  6628362266   \n",
       "2      https://townhall.com/tipsheet/rebeccadowns/202...  6628364007   \n",
       "3      https://www.sportbible.com/australia/news-brea...  6628423216   \n",
       "4      https://www.latestly.com/agency-news/sports-ne...  6628431262   \n",
       "...                                                  ...         ...   \n",
       "10935  https://www.diariolibre.com/deportes/olimpismo...  6686899243   \n",
       "10936  https://www.elfinanciero.com.mx/tokio-2020/202...  6687117130   \n",
       "10937  https://www.chilango.com/cine-y-tv/peliculas-e...  6687247369   \n",
       "10938  https://record.acento.com.do/polideportivo/el-...  6687444123   \n",
       "10939  https://www.elinformadorvenezuela.com/deportes...  6687517349   \n",
       "\n",
       "          eventUri                                     concepts clusterId  \n",
       "0              NaN     ['olympic_games', 'japan', 'basketball']      wn-1  \n",
       "1      eng-6899867     ['olympic_games', 'japan', 'basketball']      wn-2  \n",
       "2      eng-6906275     ['olympic_games', 'japan', 'basketball']      wn-3  \n",
       "3      eng-6906275     ['olympic_games', 'japan', 'basketball']      wn-4  \n",
       "4      eng-6906275     ['olympic_games', 'japan', 'basketball']      wn-4  \n",
       "...            ...                                          ...       ...  \n",
       "10935  spa-2454564           ['olympic_games', 'japan', 'judo']   wn-1347  \n",
       "10936  spa-2454564           ['olympic_games', 'japan', 'judo']   wn-1347  \n",
       "10937          NaN  ['olympic_games', 'japan', 'skateboarding']   wn-1350  \n",
       "10938  spa-2455119           ['olympic_games', 'japan', 'judo']   wn-1349  \n",
       "10939  spa-2454564           ['olympic_games', 'japan', 'judo']   wn-1347  \n",
       "\n",
       "[10940 rows x 11 columns]"
      ]
     },
     "execution_count": 7,
     "metadata": {},
     "output_type": "execute_result"
    }
   ],
   "source": [
    "label_df"
   ]
  },
  {
   "cell_type": "markdown",
   "metadata": {},
   "source": [
    "# Dataset analysis"
   ]
  },
  {
   "cell_type": "code",
   "execution_count": 8,
   "metadata": {},
   "outputs": [],
   "source": [
    "from datachart import bar_chart, heatmap\n",
    "from datachart.constants import FIG_SIZE, FIG_FORMAT, FONT_WEIGHT, FONT_STYLE, LINE_STYLE, LINE_DRAW_STYLE, NORMALIZE, COLORS\n",
    "from datachart.config import config\n",
    "from datachart.utils import save_figure"
   ]
  },
  {
   "cell_type": "code",
   "execution_count": 9,
   "metadata": {},
   "outputs": [],
   "source": [
    "THEME_CONFIG = {\n",
    "    # general color style\n",
    "    \"color.general.singular\": COLORS.Blue,\n",
    "    \"color.general.multiple\": COLORS.Spectral,\n",
    "    # general font style\n",
    "    \"font.general.family\": \"sans-serif\",\n",
    "    \"font.general.sans-serif\": [\"Inter\"],\n",
    "    \"font.general.color\": \"#06102B\",\n",
    "    \"font.general.size\": 11,\n",
    "    \"font.general.style\": FONT_STYLE.NORMAL,\n",
    "    \"font.general.weight\": FONT_WEIGHT.NORMAL,\n",
    "    # title size style\n",
    "    \"font.title.size\": 12,\n",
    "    \"font.title.color\": \"#06102B\",\n",
    "    \"font.title.style\": FONT_STYLE.NORMAL,\n",
    "    \"font.title.weight\": FONT_WEIGHT.NORMAL,\n",
    "    # subtitle size style\n",
    "    \"font.subtitle.size\": 11,\n",
    "    \"font.subtitle.color\": \"#06102B\",\n",
    "    \"font.subtitle.style\": FONT_STYLE.NORMAL,\n",
    "    \"font.subtitle.weight\": FONT_WEIGHT.NORMAL,\n",
    "    # xlabel size style\n",
    "    \"font.xlabel.size\": 10,\n",
    "    \"font.xlabel.color\": \"#06102B\",\n",
    "    \"font.xlabel.style\": FONT_STYLE.NORMAL,\n",
    "    \"font.xlabel.weight\": FONT_WEIGHT.NORMAL,\n",
    "    # ylabel size style\n",
    "    \"font.ylabel.size\": 10,\n",
    "    \"font.ylabel.color\": \"#06102B\",\n",
    "    \"font.ylabel.style\": FONT_STYLE.NORMAL,\n",
    "    \"font.ylabel.weight\": FONT_WEIGHT.NORMAL,\n",
    "    # plot axes style\n",
    "    \"axes.spines.top.visible\": True,\n",
    "    \"axes.spines.right.visible\": True,\n",
    "    \"axes.spines.bottom.visible\": True,\n",
    "    \"axes.spines.left.visible\": True,\n",
    "    \"axes.spines.width\": 0.5,\n",
    "    \"axes.spines.zorder\": 100,\n",
    "    \"axes.ticks.length\": 2,\n",
    "    \"axes.ticks.label.size\": 9,\n",
    "    # plot legend style\n",
    "    \"plot.legend.shadow\": False,\n",
    "    \"plot.legend.frameon\": True,\n",
    "    \"plot.legend.alignment\": \"left\",\n",
    "    \"plot.legend.font.size\": 9,\n",
    "    \"plot.legend.title.size\": 10,\n",
    "    \"plot.legend.label.color\": \"#06102B\",\n",
    "    # plot area style\n",
    "    \"plot.area.alpha\": 0.3,\n",
    "    \"plot.area.color\": \"#4D69B2\",\n",
    "    \"plot.area.line.width\": 0,\n",
    "    \"plot.area.hatch\": None,\n",
    "    \"plot.area.zorder\": 3,\n",
    "    # plot grid style\n",
    "    \"plot.grid.alpha\": 1,\n",
    "    \"plot.grid.color\": \"#E6E6E6\",\n",
    "    \"plot.grid.line.width\": 0.5,\n",
    "    \"plot.grid.line.style\": LINE_STYLE.SOLID,\n",
    "    \"plot.grid.zorder\": 0,\n",
    "    # plot line style\n",
    "    \"plot.line.color\": \"#4D69B2\",\n",
    "    \"plot.line.style\": LINE_STYLE.SOLID,\n",
    "    \"plot.line.marker\": None,\n",
    "    \"plot.line.width\": 1,\n",
    "    \"plot.line.alpha\": 1.0,\n",
    "    \"plot.line.drawstyle\": LINE_DRAW_STYLE.DEFAULT,\n",
    "    \"plot.line.zorder\": 3,\n",
    "    # plot bar style\n",
    "    \"plot.bar.color\": \"#4D69B2\",\n",
    "    \"plot.bar.alpha\": 1.0,\n",
    "    \"plot.bar.width\": 0.8,\n",
    "    \"plot.bar.zorder\": 3,\n",
    "    \"plot.bar.hatch\": None,\n",
    "    \"plot.bar.edge.width\": 0.5,\n",
    "    \"plot.bar.edge.color\": \"#06102B\",\n",
    "    \"plot.bar.error.color\": \"#06102B\",\n",
    "    # plot hist style\n",
    "    \"plot.hist.color\": \"#4D69B2\",\n",
    "    \"plot.hist.alpha\": 1.0,\n",
    "    \"plot.hist.zorder\": 3,\n",
    "    \"plot.hist.fill\": None,\n",
    "    \"plot.hist.hatch\": None,\n",
    "    \"plot.hist.type\": \"bar\",\n",
    "    \"plot.hist.align\": \"mid\",\n",
    "    \"plot.hist.edge.width\": 0.5,\n",
    "    \"plot.hist.edge.color\": \"#06102B\",\n",
    "    # plot vline style\n",
    "    \"plot.vline.color\": \"#2FDD92\",\n",
    "    \"plot.vline.style\": LINE_STYLE.SOLID,\n",
    "    \"plot.vline.width\": 1,\n",
    "    \"plot.vline.alpha\": 1.0,\n",
    "    # plot hline style\n",
    "    \"plot.hline.color\": \"#2FDD92\",\n",
    "    \"plot.hline.style\": LINE_STYLE.SOLID,\n",
    "    \"plot.hline.width\": 1,\n",
    "    \"plot.hline.alpha\": 1.0,\n",
    "    # plot heatmap style\n",
    "    \"plot.heatmap.cmap\": COLORS.GnBu,\n",
    "    \"plot.heatmap.alpha\": 1.0,\n",
    "    \"plot.heatmap.font.size\": 10,\n",
    "    \"plot.heatmap.font.color\": \"#06102B\",\n",
    "    \"plot.heatmap.font.style\": FONT_STYLE.NORMAL,\n",
    "    \"plot.heatmap.font.weight\": FONT_WEIGHT.NORMAL,\n",
    "}"
   ]
  },
  {
   "cell_type": "code",
   "execution_count": 10,
   "metadata": {},
   "outputs": [],
   "source": [
    "config.update_config(config=THEME_CONFIG)"
   ]
  },
  {
   "cell_type": "code",
   "execution_count": 11,
   "metadata": {},
   "outputs": [],
   "source": [
    "def get_article_group_count(groups, label_func=lambda x: x):\n",
    "    return [{\"label\": label_func(group), \"y\": len(values)} for group, values in groups.items()]"
   ]
  },
  {
   "cell_type": "markdown",
   "metadata": {},
   "source": [
    "### Article Analysis"
   ]
  },
  {
   "cell_type": "code",
   "execution_count": 12,
   "metadata": {},
   "outputs": [],
   "source": [
    "iso_to_lang_mapping = {\n",
    "    \"eng\": \"English\",\n",
    "    \"por\": \"Portuguese\",\n",
    "    \"spa\": \"Spanish\",\n",
    "    \"fra\": \"French\",\n",
    "    \"rus\": \"Russian\",\n",
    "    \"deu\": \"German\",\n",
    "    \"slv\": \"Slovenian\",\n",
    "    \"ara\": \"Arabic\",\n",
    "    \"zho\": \"Chinese\",\n",
    "    #\"hrv\": \"Croatian\",\n",
    "    #\"ita\": \"Italian\",\n",
    "}\n",
    "def get_lang(x):\n",
    "    return iso_to_lang_mapping.get(x, \"Undefined\")"
   ]
  },
  {
   "cell_type": "markdown",
   "metadata": {},
   "source": [
    "#### Temporal Analysis"
   ]
  },
  {
   "cell_type": "code",
   "execution_count": 13,
   "metadata": {},
   "outputs": [],
   "source": [
    "def format_date(x):\n",
    "    def beautify(x):\n",
    "        return f\"0{x}\"[-2:]\n",
    "    return \"{}-{}-{}\".format(x.year, beautify(x.month), beautify(x.day))"
   ]
  },
  {
   "cell_type": "code",
   "execution_count": 14,
   "metadata": {},
   "outputs": [],
   "source": [
    "label_df[\"date\"] = label_df[\"dateTime\"].apply(lambda x: format_date(x))"
   ]
  },
  {
   "cell_type": "code",
   "execution_count": 15,
   "metadata": {},
   "outputs": [],
   "source": [
    "count_by_date = get_article_group_count(label_df.groupby([\"date\"]).groups)\n",
    "xlabels = [x[\"label\"] for x in count_by_date]\n",
    "xticks = [0, 21, 38, len(xlabels)-1]"
   ]
  },
  {
   "cell_type": "code",
   "execution_count": 16,
   "metadata": {},
   "outputs": [
    {
     "data": {
      "image/png": "[encoded data removed]",
      "text/plain": [
       "<Figure size 820x240 with 1 Axes>"
      ]
     },
     "metadata": {},
     "output_type": "display_data"
    }
   ],
   "source": [
    "figure = bar_chart(\n",
    "    {\n",
    "        \"charts\": {\n",
    "            \"data\": count_by_date,\n",
    "            \"xticks\": xticks,\n",
    "            \"xticklabels\": [xlabels[idx] for idx in xticks],\n",
    "            \"xtickrotate\": 0,\n",
    "            \"vlines\": [\n",
    "                {\n",
    "                    \"x\": 21,\n",
    "                    \"ymax\": 1000,\n",
    "                    \"label\": \"start of the Olympics\",\n",
    "                },\n",
    "                {\n",
    "                    \"x\": 38,\n",
    "                    \"ymax\": 1000,\n",
    "                    \"label\": \"end of the Olympics\",\n",
    "                },\n",
    "            ],\n",
    "        },\n",
    "        \"ymax\": 1000,\n",
    "        \"title\": \"article distribution by date\",\n",
    "        \"xlabel\": \"date\",\n",
    "        \"ylabel\": \"number of articles\",\n",
    "        \"show_legend\": True,\n",
    "        \"show_grid\": \"y\",\n",
    "        \"figsize\": FIG_SIZE.A4_NARROW,\n",
    "    }\n",
    ")\n",
    "save_figure(figure, \"../results/og2021-article-distribution-by-date.png\", dpi=300, format=FIG_FORMAT.PNG, transparent=True)"
   ]
  },
  {
   "cell_type": "markdown",
   "metadata": {},
   "source": [
    "### Language Analysis "
   ]
  },
  {
   "cell_type": "code",
   "execution_count": 17,
   "metadata": {},
   "outputs": [],
   "source": [
    "count_by_lang = get_article_group_count(label_df.groupby([\"lang\"]).groups, label_func=get_lang)\n",
    "count_by_lang = sorted(count_by_lang, key=lambda x: x[\"y\"], reverse=True)\n",
    "\n",
    "avg_count = sum([v[\"y\"] for v in count_by_lang]) / len(count_by_lang)"
   ]
  },
  {
   "cell_type": "code",
   "execution_count": 18,
   "metadata": {},
   "outputs": [
    {
     "data": {
      "image/png": "[encoded data removed]",
      "text/plain": [
       "<Figure size 820x240 with 1 Axes>"
      ]
     },
     "metadata": {},
     "output_type": "display_data"
    }
   ],
   "source": [
    "figure = bar_chart({\n",
    "    \"charts\": {\n",
    "        \"data\": count_by_lang,\n",
    "        \"hlines\": [\n",
    "                {\n",
    "                    \"y\": avg_count,\n",
    "                    \"xmin\": -0.5,\n",
    "                    \"xmax\": len(iso_to_lang_mapping.keys()) - 0.5,\n",
    "                    \"label\": \"avg number of articles\",\n",
    "                },\n",
    "            ],\n",
    "    },\n",
    "    \"title\": \"article distribution by language\",\n",
    "    \"xlabel\": \"language\",\n",
    "    \"ylabel\": \"number of articles\",\n",
    "    \"xmin\": -0.5,\n",
    "    \"xmax\": len(iso_to_lang_mapping.keys()) - 0.5,\n",
    "    \"show_grid\": \"y\",\n",
    "    \"show_legend\": True,\n",
    "    \"figsize\": FIG_SIZE.A4_NARROW # (4.1, 2.4) # half the width of the A4\n",
    "})\n",
    "save_figure(figure, \"../results/og2021-article-distribution-by-lang.png\", dpi=300, format=FIG_FORMAT.PNG, transparent=True)"
   ]
  },
  {
   "cell_type": "code",
   "execution_count": 19,
   "metadata": {},
   "outputs": [],
   "source": [
    "def get_length_stats(df, column):\n",
    "    vals = [len(x.split()) for x in df[column]]\n",
    "    return {\n",
    "        \"min\": min(vals) if len(vals) > 0 else 0,\n",
    "        \"max\": max(vals) if len(vals) > 0 else 0,\n",
    "        \"avg\": sum(vals) / len(vals) if len(vals) > 0 else 0,\n",
    "        \"std\": np.std(vals) if len(vals) > 0 else 0,\n",
    "    }\n",
    "\n",
    "def get_cluster_stats(df, column):\n",
    "    vals = [len(v) for v in df.groupby([column]).groups.values()]\n",
    "    return {\n",
    "        \"count\": len(vals) if len(vals) > 0 else 0,\n",
    "        \"min\": min(vals) if len(vals) > 0 else 0,\n",
    "        \"max\": max(vals) if len(vals) > 0 else 0,\n",
    "        \"avg\": sum(vals) / len(vals) if len(vals) > 0 else 0,\n",
    "        \"std\": np.std(vals) if len(vals) > 0 else 0,\n",
    "    }"
   ]
  },
  {
   "cell_type": "code",
   "execution_count": 20,
   "metadata": {},
   "outputs": [
    {
     "name": "stdout",
     "output_type": "stream",
     "text": [
      "Min, mean, and max article title and body lengths (in characters) by language:\n",
      "Language   & Arts   & tavg (tstd) & bavg  (bstd ) & cls   & cavg (cstd) \\\\\n",
      "Overall    & 10,940 & 12   (4   ) & 792   (862  ) & 1,350 & 8    (20  ) \\\\\n",
      "English    & 4,009  & 11   (3   ) & 1,231 (1,147) & 729   & 5    (11  ) \\\\\n",
      "Portuguese & 2,410  & 13   (3   ) & 527   (374  ) & 368   & 7    (12  ) \\\\\n",
      "Spanish    & 2,049  & 13   (4   ) & 562   (427  ) & 381   & 5    (9   ) \\\\\n",
      "French     & 845    & 13   (4   ) & 565   (464  ) & 170   & 5    (8   ) \\\\\n",
      "Russian    & 553    & 10   (3   ) & 301   (358  ) & 152   & 4    (6   ) \\\\\n",
      "German     & 516    & 9    (3   ) & 833   (1,011) & 100   & 5    (6   ) \\\\\n",
      "Slovenian  & 331    & 9    (3   ) & 450   (370  ) & 102   & 3    (3   ) \\\\\n",
      "Arabic     & 218    & 10   (3   ) & 405   (269  ) & 71    & 3    (3   ) \\\\\n",
      "Chinese    & 9      & 2    (1   ) & 56    (36   ) & 5     & 2    (1   ) \\\\\n"
     ]
    }
   ],
   "source": [
    "langs = [None] + list(iso_to_lang_mapping.keys())\n",
    "\n",
    "print(\"Min, mean, and max article title and body lengths (in characters) by language:\")\n",
    "print(f\"Language   & Arts   & tavg (tstd) & bavg  (bstd ) & cls   & cavg (cstd) \\\\\\\\\")\n",
    "for lang in langs:\n",
    "    df = label_df[label_df[\"lang\"] == lang] if lang else label_df\n",
    "    language = iso_to_lang_mapping.get(lang, \"Overall\")\n",
    "\n",
    "    title_stats = get_length_stats(df, \"title\")\n",
    "    body_stats = get_length_stats(df, \"body\")\n",
    "\n",
    "    cluster_stats = get_cluster_stats(df, \"clusterId\")\n",
    "    print(f\"{language:<10} & {len(df):<6,.0f} & {title_stats['avg']:<4.0f} ({title_stats['std']:<4,.0f}) & {body_stats['avg']:<5,.0f} ({body_stats['std']:<5,.0f}) & {cluster_stats['count']:<5,} & {cluster_stats['avg']:<4.0f} ({cluster_stats['std']:<4.0f}) \\\\\\\\\")"
   ]
  },
  {
   "cell_type": "code",
   "execution_count": 21,
   "metadata": {},
   "outputs": [
    {
     "name": "stdout",
     "output_type": "stream",
     "text": [
      "None                                         Overall    & 10,940 & 1,350 \\\\\n",
      "None                                         English    & 4,009  & 729   \\\\\n",
      "None                                         Portuguese & 2,410  & 368   \\\\\n",
      "None                                         Spanish    & 2,049  & 381   \\\\\n",
      "None                                         French     & 845    & 170   \\\\\n",
      "None                                         Russian    & 553    & 152   \\\\\n",
      "None                                         German     & 516    & 100   \\\\\n",
      "None                                         Slovenian  & 331    & 102   \\\\\n",
      "None                                         Arabic     & 218    & 71    \\\\\n",
      "None                                         Chinese    & 9      & 5     \\\\\n",
      "['olympic_games', 'japan', 'basketball']     Overall    & 2,898  & 368   \\\\\n",
      "['olympic_games', 'japan', 'basketball']     English    & 963    & 189   \\\\\n",
      "['olympic_games', 'japan', 'basketball']     Portuguese & 293    & 83    \\\\\n",
      "['olympic_games', 'japan', 'basketball']     Spanish    & 774    & 148   \\\\\n",
      "['olympic_games', 'japan', 'basketball']     French     & 279    & 67    \\\\\n",
      "['olympic_games', 'japan', 'basketball']     Russian    & 168    & 60    \\\\\n",
      "['olympic_games', 'japan', 'basketball']     German     & 164    & 30    \\\\\n",
      "['olympic_games', 'japan', 'basketball']     Slovenian  & 216    & 73    \\\\\n",
      "['olympic_games', 'japan', 'basketball']     Arabic     & 39     & 18    \\\\\n",
      "['olympic_games', 'japan', 'basketball']     Chinese    & 2      & 2     \\\\\n",
      "['olympic_games', 'japan', 'judo']           Overall    & 3,868  & 487   \\\\\n",
      "['olympic_games', 'japan', 'judo']           English    & 1,096  & 234   \\\\\n",
      "['olympic_games', 'japan', 'judo']           Portuguese & 981    & 150   \\\\\n",
      "['olympic_games', 'japan', 'judo']           Spanish    & 634    & 138   \\\\\n",
      "['olympic_games', 'japan', 'judo']           French     & 498    & 81    \\\\\n",
      "['olympic_games', 'japan', 'judo']           Russian    & 247    & 60    \\\\\n",
      "['olympic_games', 'japan', 'judo']           German     & 202    & 40    \\\\\n",
      "['olympic_games', 'japan', 'judo']           Slovenian  & 56     & 13    \\\\\n",
      "['olympic_games', 'japan', 'judo']           Arabic     & 150    & 45    \\\\\n",
      "['olympic_games', 'japan', 'judo']           Chinese    & 4      & 2     \\\\\n",
      "['olympic_games', 'japan', 'skateboarding']  Overall    & 2,203  & 219   \\\\\n",
      "['olympic_games', 'japan', 'skateboarding']  English    & 1,048  & 159   \\\\\n",
      "['olympic_games', 'japan', 'skateboarding']  Portuguese & 822    & 88    \\\\\n",
      "['olympic_games', 'japan', 'skateboarding']  Spanish    & 263    & 40    \\\\\n",
      "['olympic_games', 'japan', 'skateboarding']  French     & 0      & 0     \\\\\n",
      "['olympic_games', 'japan', 'skateboarding']  Russian    & 65     & 15    \\\\\n",
      "['olympic_games', 'japan', 'skateboarding']  German     & 0      & 0     \\\\\n",
      "['olympic_games', 'japan', 'skateboarding']  Slovenian  & 4      & 3     \\\\\n",
      "['olympic_games', 'japan', 'skateboarding']  Arabic     & 1      & 1     \\\\\n",
      "['olympic_games', 'japan', 'skateboarding']  Chinese    & 0      & 0     \\\\\n",
      "['olympic_games', 'japan', 'rowing']         Overall    & 1,217  & 197   \\\\\n",
      "['olympic_games', 'japan', 'rowing']         English    & 670    & 138   \\\\\n",
      "['olympic_games', 'japan', 'rowing']         Portuguese & 108    & 21    \\\\\n",
      "['olympic_games', 'japan', 'rowing']         Spanish    & 249    & 40    \\\\\n",
      "['olympic_games', 'japan', 'rowing']         French     & 36     & 14    \\\\\n",
      "['olympic_games', 'japan', 'rowing']         Russian    & 54     & 16    \\\\\n",
      "['olympic_games', 'japan', 'rowing']         German     & 66     & 16    \\\\\n",
      "['olympic_games', 'japan', 'rowing']         Slovenian  & 3      & 1     \\\\\n",
      "['olympic_games', 'japan', 'rowing']         Arabic     & 28     & 10    \\\\\n",
      "['olympic_games', 'japan', 'rowing']         Chinese    & 3      & 2     \\\\\n",
      "['olympic_games', 'japan', 'table_tennis']   Overall    & 378    & 50    \\\\\n",
      "['olympic_games', 'japan', 'table_tennis']   English    & 138    & 15    \\\\\n",
      "['olympic_games', 'japan', 'table_tennis']   Portuguese & 100    & 16    \\\\\n",
      "['olympic_games', 'japan', 'table_tennis']   Spanish    & 0      & 0     \\\\\n",
      "['olympic_games', 'japan', 'table_tennis']   French     & 23     & 9     \\\\\n",
      "['olympic_games', 'japan', 'table_tennis']   Russian    & 19     & 8     \\\\\n",
      "['olympic_games', 'japan', 'table_tennis']   German     & 73     & 12    \\\\\n",
      "['olympic_games', 'japan', 'table_tennis']   Slovenian  & 25     & 9     \\\\\n",
      "['olympic_games', 'japan', 'table_tennis']   Arabic     & 0      & 0     \\\\\n",
      "['olympic_games', 'japan', 'table_tennis']   Chinese    & 0      & 0     \\\\\n",
      "['olympic_games', 'japan', 'swimming']       Overall    & 275    & 52    \\\\\n",
      "['olympic_games', 'japan', 'swimming']       English    & 31     & 7     \\\\\n",
      "['olympic_games', 'japan', 'swimming']       Portuguese & 106    & 25    \\\\\n",
      "['olympic_games', 'japan', 'swimming']       Spanish    & 129    & 27    \\\\\n",
      "['olympic_games', 'japan', 'swimming']       French     & 9      & 5     \\\\\n",
      "['olympic_games', 'japan', 'swimming']       Russian    & 0      & 0     \\\\\n",
      "['olympic_games', 'japan', 'swimming']       German     & 0      & 0     \\\\\n",
      "['olympic_games', 'japan', 'swimming']       Slovenian  & 0      & 0     \\\\\n",
      "['olympic_games', 'japan', 'swimming']       Arabic     & 0      & 0     \\\\\n",
      "['olympic_games', 'japan', 'swimming']       Chinese    & 0      & 0     \\\\\n",
      "['olympic_games', 'japan', 'sport_climbing'] Overall    & 101    & 21    \\\\\n",
      "['olympic_games', 'japan', 'sport_climbing'] English    & 63     & 15    \\\\\n",
      "['olympic_games', 'japan', 'sport_climbing'] Portuguese & 0      & 0     \\\\\n",
      "['olympic_games', 'japan', 'sport_climbing'] Spanish    & 0      & 0     \\\\\n",
      "['olympic_games', 'japan', 'sport_climbing'] French     & 0      & 0     \\\\\n",
      "['olympic_games', 'japan', 'sport_climbing'] Russian    & 0      & 0     \\\\\n",
      "['olympic_games', 'japan', 'sport_climbing'] German     & 11     & 5     \\\\\n",
      "['olympic_games', 'japan', 'sport_climbing'] Slovenian  & 27     & 5     \\\\\n",
      "['olympic_games', 'japan', 'sport_climbing'] Arabic     & 0      & 0     \\\\\n",
      "['olympic_games', 'japan', 'sport_climbing'] Chinese    & 0      & 0     \\\\\n"
     ]
    }
   ],
   "source": [
    "concepts = [None] + list(label_df[\"concepts\"].unique())\n",
    "\n",
    "for concept in concepts:\n",
    "    for lang in langs:\n",
    "        df = label_df[label_df[\"concepts\"] == concept] if concept else label_df\n",
    "        df = df[df[\"lang\"] == lang] if lang else df\n",
    "        language = iso_to_lang_mapping.get(lang, \"Overall\")\n",
    "\n",
    "        title_stats = get_length_stats(df, \"title\")\n",
    "        body_stats = get_length_stats(df, \"body\")\n",
    "\n",
    "        cluster_stats = get_cluster_stats(df, \"clusterId\")\n",
    "        print(f\"{str(concept):<44} {language:<10} & {len(df):<6,.0f} & {cluster_stats['count']:<5,} \\\\\\\\\")"
   ]
  },
  {
   "cell_type": "markdown",
   "metadata": {},
   "source": [
    "### Cluster Analysis"
   ]
  },
  {
   "cell_type": "code",
   "execution_count": 22,
   "metadata": {},
   "outputs": [
    {
     "name": "stdout",
     "output_type": "stream",
     "text": [
      "Min, max, mean, and std of cluster duration by language:\n",
      "Overall    & 0.00  & 19.41 & 0.78  & 1.21  \\\\\n",
      "English    & 0.00  & 19.41 & 0.56  & 1.32  \\\\\n"
     ]
    },
    {
     "name": "stdout",
     "output_type": "stream",
     "text": [
      "Portuguese & 0.00  & 11.49 & 0.67  & 1.10  \\\\\n",
      "Spanish    & 0.00  & 12.11 & 0.68  & 1.06  \\\\\n",
      "French     & 0.00  & 3.77  & 0.54  & 0.78  \\\\\n",
      "Russian    & 0.00  & 3.21  & 0.34  & 0.60  \\\\\n",
      "German     & 0.00  & 7.07  & 0.60  & 0.93  \\\\\n",
      "Slovenian  & 0.00  & 7.80  & 0.51  & 0.99  \\\\\n",
      "Arabic     & 0.00  & 3.35  & 0.48  & 0.65  \\\\\n",
      "Chinese    & 0.00  & 2.59  & 0.56  & 1.14  \\\\\n"
     ]
    }
   ],
   "source": [
    "def get_time_stats(df, column):\n",
    "    vals = df.groupby(column)['dateTime'].agg(['min', 'max'])\n",
    "    return {\n",
    "        \"mean\": (vals[\"max\"] - vals[\"min\"]).mean() / np.timedelta64(1, 'D'),\n",
    "        \"std\":  (vals[\"max\"] - vals[\"min\"]).std()  / np.timedelta64(1, 'D'),\n",
    "        \"min\":  (vals[\"max\"] - vals[\"min\"]).min()  / np.timedelta64(1, 'D'),\n",
    "        \"max\":  (vals[\"max\"] - vals[\"min\"]).max()  / np.timedelta64(1, 'D'),\n",
    "    }\n",
    "\n",
    "langs = [None] + list(iso_to_lang_mapping.keys())\n",
    "print(\"Min, max, mean, and std of cluster duration by language:\")\n",
    "for lang in langs:\n",
    "    df = label_df[label_df[\"lang\"] == lang] if lang else label_df\n",
    "    language = iso_to_lang_mapping.get(lang, \"Overall\")\n",
    "    title_stats = get_time_stats(df, \"clusterId\")\n",
    "    print(f\"{language:<10} & {title_stats['min']:<5.2f} & {title_stats['max']:<5.2f} & {title_stats['mean']:<5.2f} & {title_stats['std']:<5.2f} \\\\\\\\\")"
   ]
  },
  {
   "cell_type": "code",
   "execution_count": 23,
   "metadata": {},
   "outputs": [],
   "source": [
    "count_by_cluster_id = get_article_group_count(label_df.groupby([\"clusterId\"]).groups)"
   ]
  },
  {
   "cell_type": "code",
   "execution_count": 24,
   "metadata": {},
   "outputs": [],
   "source": [
    "cls_sizes = [x[\"y\"] for x in count_by_cluster_id]\n",
    "min_cls_size = min(cls_sizes)\n",
    "max_cls_size = max(cls_sizes)"
   ]
  },
  {
   "cell_type": "code",
   "execution_count": 25,
   "metadata": {},
   "outputs": [],
   "source": [
    "number_of_cls_size = []\n",
    "for cls_size in range(min_cls_size, max_cls_size + 1):\n",
    "    count = len([x for x in count_by_cluster_id if x[\"y\"] == cls_size])\n",
    "    number_of_cls_size.append({\"label\": cls_size, \"y\": count})"
   ]
  },
  {
   "cell_type": "code",
   "execution_count": 26,
   "metadata": {},
   "outputs": [],
   "source": [
    "PERCENTILE = 0.95\n",
    "\n",
    "cumm_dist = [\n",
    "    sum([v[\"y\"] for v in number_of_cls_size[: idx + 1]])\n",
    "    for idx in range(len(number_of_cls_size))\n",
    "]\n",
    "quart_th = len(list(filter(lambda x: x <= cumm_dist[-1] * PERCENTILE, cumm_dist)))"
   ]
  },
  {
   "cell_type": "code",
   "execution_count": 27,
   "metadata": {},
   "outputs": [],
   "source": [
    "number_of_cls_size = number_of_cls_size[:40] + [{\"label\": \"\", \"y\": 0 }]*100 + [number_of_cls_size[-1]]"
   ]
  },
  {
   "cell_type": "code",
   "execution_count": 28,
   "metadata": {},
   "outputs": [],
   "source": [
    "xlabels = [x[\"label\"] for x in number_of_cls_size]\n",
    "xticks = [0, quart_th, len(xlabels) - 1]\n",
    "\n",
    "ymax = 300"
   ]
  },
  {
   "cell_type": "code",
   "execution_count": 29,
   "metadata": {},
   "outputs": [
    {
     "data": {
      "image/png": "[encoded data removed]",
      "text/plain": [
       "<Figure size 820x240 with 1 Axes>"
      ]
     },
     "metadata": {},
     "output_type": "display_data"
    }
   ],
   "source": [
    "figure = bar_chart({\n",
    "    \"charts\": {\n",
    "        \"data\": number_of_cls_size,\n",
    "        \"xticks\": xticks,\n",
    "        \"xticklabels\": [xlabels[idx] for idx in xticks],\n",
    "        \"vlines\": {\n",
    "            \"x\": quart_th,\n",
    "            \"ymax\": ymax,\n",
    "            \"label\": f\"{PERCENTILE*100:.0f}th percentile\",\n",
    "        }\n",
    "    },\n",
    "    \"ymax\": ymax,\n",
    "    \"title\": \"cluster distribution by size\",\n",
    "    \"xlabel\": \"cluster size (number of articles in cluster)\",\n",
    "    \"ylabel\": \"number of clusters\",\n",
    "    \"figsize\": FIG_SIZE.A4_NARROW,\n",
    "    \"show_legend\": True,\n",
    "    \"show_grid\": \"y\",\n",
    "})\n",
    "save_figure(figure, \"../results/og2021-cluster-distribution-by-size.png\", dpi=300, format=FIG_FORMAT.PNG, transparent=True)"
   ]
  },
  {
   "cell_type": "markdown",
   "metadata": {},
   "source": [
    "### Mono- vs multi-lingual cluster analysis"
   ]
  },
  {
   "cell_type": "code",
   "execution_count": 30,
   "metadata": {},
   "outputs": [],
   "source": [
    "distinct_langs = label_df.groupby([\"clusterId\"])[\"lang\"].nunique().to_list()\n",
    "min_dist_langs = min(distinct_langs)\n",
    "max_dist_langs = max(distinct_langs)"
   ]
  },
  {
   "cell_type": "code",
   "execution_count": 31,
   "metadata": {},
   "outputs": [],
   "source": [
    "number_of_dist_langs = []\n",
    "for dist_lang_count in range(min_dist_langs, max_dist_langs + 1):\n",
    "    count = len([x for x in distinct_langs if x == dist_lang_count])\n",
    "    number_of_dist_langs.append(\n",
    "        {\n",
    "            \"label\": dist_lang_count,\n",
    "            \"y\": count,\n",
    "        }\n",
    "    )"
   ]
  },
  {
   "cell_type": "code",
   "execution_count": 32,
   "metadata": {},
   "outputs": [
    {
     "data": {
      "text/plain": [
       "0.2777777777777778"
      ]
     },
     "execution_count": 32,
     "metadata": {},
     "output_type": "execute_result"
    }
   ],
   "source": [
    "sum([x[\"y\"] for x in filter(lambda x: x[\"label\"] != 1, number_of_dist_langs)]) / sum([x[\"y\"] for x in number_of_dist_langs])"
   ]
  },
  {
   "cell_type": "code",
   "execution_count": 33,
   "metadata": {},
   "outputs": [
    {
     "data": {
      "image/png": "[encoded data removed]",
      "text/plain": [
       "<Figure size 820x240 with 1 Axes>"
      ]
     },
     "metadata": {},
     "output_type": "display_data"
    }
   ],
   "source": [
    "figure = bar_chart({\n",
    "    \"charts\": { \"data\": number_of_dist_langs },\n",
    "    \"title\": \"cluster distribution per languages\",\n",
    "    \"xlabel\": \"number of languages in cluster\",\n",
    "    \"ylabel\": \"number of clusters\",\n",
    "    \"show_grid\": \"y\",\n",
    "    \"figsize\": FIG_SIZE.A4_NARROW,\n",
    "    \"ymax\": 1200,\n",
    "})\n",
    "save_figure(figure, \"../results/og2021-cluster-distribution-by-lang.png\", dpi=300, format=FIG_FORMAT.PNG, transparent=True)"
   ]
  },
  {
   "cell_type": "markdown",
   "metadata": {},
   "source": [
    "#### Language coocurrence in clusters analysis"
   ]
  },
  {
   "cell_type": "code",
   "execution_count": 34,
   "metadata": {},
   "outputs": [],
   "source": [
    "iso_to_idx_mapping = { key: idx for idx, key in enumerate(iso_to_lang_mapping.keys()) }\n",
    "n_langs = len(iso_to_lang_mapping.keys())"
   ]
  },
  {
   "cell_type": "code",
   "execution_count": 35,
   "metadata": {},
   "outputs": [],
   "source": [
    "coocurrence = np.array([[0] * n_langs for _ in range(n_langs)])"
   ]
  },
  {
   "cell_type": "code",
   "execution_count": 36,
   "metadata": {},
   "outputs": [],
   "source": [
    "examples = label_df.groupby([\"clusterId\"])[\"lang\"].unique().to_list()"
   ]
  },
  {
   "cell_type": "code",
   "execution_count": 37,
   "metadata": {},
   "outputs": [],
   "source": [
    "for langs in examples:\n",
    "    for idx in range(len(langs)):\n",
    "        lang_idx = iso_to_idx_mapping[langs[idx]]\n",
    "        for idy in range(len(langs)):\n",
    "            lang_idy = iso_to_idx_mapping[langs[idy]]\n",
    "            coocurrence[lang_idx][lang_idy] += 1"
   ]
  },
  {
   "cell_type": "code",
   "execution_count": 38,
   "metadata": {},
   "outputs": [],
   "source": [
    "coocurrence = coocurrence / len(examples)"
   ]
  },
  {
   "cell_type": "code",
   "execution_count": 88,
   "metadata": {},
   "outputs": [
    {
     "data": {
      "image/png": "[encoded data removed]",
      "text/plain": [
       "<Figure size 640x640 with 1 Axes>"
      ]
     },
     "metadata": {},
     "output_type": "display_data"
    }
   ],
   "source": [
    "figure = heatmap(\n",
    "    {\n",
    "        \"charts\": {\n",
    "            \"data\": coocurrence,\n",
    "            \"norm\": NORMALIZE.LOG,\n",
    "            \"valfmt\": \"{x:.1%}\",\n",
    "            \"xticks\": [idx for idx in range(n_langs)],\n",
    "            \"xticklabels\": [iso_to_lang_mapping[key] for key in iso_to_idx_mapping.keys()],\n",
    "            \"xtickrotate\": 45,\n",
    "            \"yticks\": [idx for idx in range(n_langs)],\n",
    "            \"yticklabels\": [iso_to_lang_mapping[key] for key in iso_to_idx_mapping.keys()],\n",
    "        },\n",
    "        \"title\": \"the language co-occurence matrix\",\n",
    "        \"figsize\": FIG_SIZE.SQUARE,\n",
    "        \"show_heatmap_vals\": True,\n",
    "    }\n",
    ")\n",
    "save_figure(figure, \"../results/og2021-cluster-language-cooccurence.png\", dpi=300, format=FIG_FORMAT.PNG, transparent=True)"
   ]
  },
  {
   "cell_type": "markdown",
   "metadata": {},
   "source": [
    "# Final save of the dataset"
   ]
  },
  {
   "cell_type": "code",
   "execution_count": 90,
   "metadata": {},
   "outputs": [],
   "source": [
    "import uuid\n",
    "import math"
   ]
  },
  {
   "cell_type": "markdown",
   "metadata": {},
   "source": [
    "Prepare the final dataset"
   ]
  },
  {
   "cell_type": "code",
   "execution_count": 91,
   "metadata": {},
   "outputs": [],
   "source": [
    "final_df = pd.DataFrame(label_df[[\"id\", \"title\", \"body\", \"lang\", \"source\", \"dateTime\", \"url\", \"clusterId\"]])\n",
    "final_df.rename(columns={ \"dateTime\": \"published_at\", \"clusterId\": \"cluster_id\" }, inplace=True)"
   ]
  },
  {
   "cell_type": "markdown",
   "metadata": {},
   "source": [
    "Create the mapping between the cluster ID and the unique identifier"
   ]
  },
  {
   "cell_type": "code",
   "execution_count": 92,
   "metadata": {},
   "outputs": [],
   "source": [
    "id_mapping = { cluster_id: str(uuid.uuid4()).split(\"-\")[0] for cluster_id in final_df[\"cluster_id\"].unique()}"
   ]
  },
  {
   "cell_type": "code",
   "execution_count": 93,
   "metadata": {},
   "outputs": [
    {
     "data": {
      "text/plain": [
       "True"
      ]
     },
     "execution_count": 93,
     "metadata": {},
     "output_type": "execute_result"
    }
   ],
   "source": [
    "len(set(id_mapping.keys())) == len(set(id_mapping.values()))"
   ]
  },
  {
   "cell_type": "code",
   "execution_count": 94,
   "metadata": {},
   "outputs": [],
   "source": [
    "final_df[\"cluster_id\"] = final_df[\"cluster_id\"].map(lambda x: f\"cls-{id_mapping[x]}\")"
   ]
  },
  {
   "cell_type": "code",
   "execution_count": 95,
   "metadata": {},
   "outputs": [
    {
     "data": {
      "text/html": [
       "<div>\n",
       "<style scoped>\n",
       "    .dataframe tbody tr th:only-of-type {\n",
       "        vertical-align: middle;\n",
       "    }\n",
       "\n",
       "    .dataframe tbody tr th {\n",
       "        vertical-align: top;\n",
       "    }\n",
       "\n",
       "    .dataframe thead th {\n",
       "        text-align: right;\n",
       "    }\n",
       "</style>\n",
       "<table border=\"1\" class=\"dataframe\">\n",
       "  <thead>\n",
       "    <tr style=\"text-align: right;\">\n",
       "      <th></th>\n",
       "      <th>id</th>\n",
       "      <th>title</th>\n",
       "      <th>body</th>\n",
       "      <th>lang</th>\n",
       "      <th>source</th>\n",
       "      <th>published_at</th>\n",
       "      <th>url</th>\n",
       "      <th>cluster_id</th>\n",
       "    </tr>\n",
       "  </thead>\n",
       "  <tbody>\n",
       "    <tr>\n",
       "      <th>0</th>\n",
       "      <td>0</td>\n",
       "      <td>Iran's Basketball Team Held At Airport Over 'U...</td>\n",
       "      <td>Incident comes weeks ahead of Tokyo Olympics, ...</td>\n",
       "      <td>eng</td>\n",
       "      <td>Haberler.com</td>\n",
       "      <td>2021-07-01 06:01:00</td>\n",
       "      <td>https://en.haberler.com/iran-s-basketball-team...</td>\n",
       "      <td>cls-28ced65f</td>\n",
       "    </tr>\n",
       "    <tr>\n",
       "      <th>1</th>\n",
       "      <td>1</td>\n",
       "      <td>Olympics latest: Samoa participation in doubt ...</td>\n",
       "      <td>TOKYO -- The July 23 opening ceremony of the d...</td>\n",
       "      <td>eng</td>\n",
       "      <td>Nikkei Asia</td>\n",
       "      <td>2021-07-01 08:51:00</td>\n",
       "      <td>https://asia.nikkei.com/Spotlight/Tokyo-2020-O...</td>\n",
       "      <td>cls-8eb8df54</td>\n",
       "    </tr>\n",
       "    <tr>\n",
       "      <th>2</th>\n",
       "      <td>2</td>\n",
       "      <td>What Do the Olympics Have Against Women?</td>\n",
       "      <td>Yes, I am talking about how Laurel Hubbard, a ...</td>\n",
       "      <td>eng</td>\n",
       "      <td>Townhall</td>\n",
       "      <td>2021-07-01 08:54:00</td>\n",
       "      <td>https://townhall.com/tipsheet/rebeccadowns/202...</td>\n",
       "      <td>cls-3ee1cc3c</td>\n",
       "    </tr>\n",
       "    <tr>\n",
       "      <th>3</th>\n",
       "      <td>3</td>\n",
       "      <td>Breastfeeding Mother Granted Permission To Bri...</td>\n",
       "      <td>Breastfeeding mothers competing at the Olympic...</td>\n",
       "      <td>eng</td>\n",
       "      <td>www.sportbible.com</td>\n",
       "      <td>2021-07-01 10:10:00</td>\n",
       "      <td>https://www.sportbible.com/australia/news-brea...</td>\n",
       "      <td>cls-49c24cb8</td>\n",
       "    </tr>\n",
       "    <tr>\n",
       "      <th>4</th>\n",
       "      <td>4</td>\n",
       "      <td>Sports News | Breastfeeding Olympians Allowed ...</td>\n",
       "      <td>Canadian basketball player Kim Gaucher, who is...</td>\n",
       "      <td>eng</td>\n",
       "      <td>LatestLY</td>\n",
       "      <td>2021-07-01 10:20:00</td>\n",
       "      <td>https://www.latestly.com/agency-news/sports-ne...</td>\n",
       "      <td>cls-49c24cb8</td>\n",
       "    </tr>\n",
       "    <tr>\n",
       "      <th>...</th>\n",
       "      <td>...</td>\n",
       "      <td>...</td>\n",
       "      <td>...</td>\n",
       "      <td>...</td>\n",
       "      <td>...</td>\n",
       "      <td>...</td>\n",
       "      <td>...</td>\n",
       "      <td>...</td>\n",
       "    </tr>\n",
       "    <tr>\n",
       "      <th>10935</th>\n",
       "      <td>10935</td>\n",
       "      <td>Juegos Olímpicos ganaron aceptación entre much...</td>\n",
       "      <td>Antes, muchos japoneses mostraron su reticenci...</td>\n",
       "      <td>spa</td>\n",
       "      <td>www.diariolibre.com</td>\n",
       "      <td>2021-08-13 18:36:00</td>\n",
       "      <td>https://www.diariolibre.com/deportes/olimpismo...</td>\n",
       "      <td>cls-4e17beb8</td>\n",
       "    </tr>\n",
       "    <tr>\n",
       "      <th>10936</th>\n",
       "      <td>10936</td>\n",
       "      <td>Japón, al final, se dejó 'seducir' por los Jue...</td>\n",
       "      <td>Por ahora, hay en muchos japoneses un sentimie...</td>\n",
       "      <td>spa</td>\n",
       "      <td>El Financiero</td>\n",
       "      <td>2021-08-13 21:09:00</td>\n",
       "      <td>https://www.elfinanciero.com.mx/tokio-2020/202...</td>\n",
       "      <td>cls-4e17beb8</td>\n",
       "    </tr>\n",
       "    <tr>\n",
       "      <th>10937</th>\n",
       "      <td>10937</td>\n",
       "      <td>Películas esenciales por si te clavaste con el...</td>\n",
       "      <td>La brasileña Rayssa Leal se robó el corazón de...</td>\n",
       "      <td>spa</td>\n",
       "      <td>Chilango</td>\n",
       "      <td>2021-08-13 23:08:00</td>\n",
       "      <td>https://www.chilango.com/cine-y-tv/peliculas-e...</td>\n",
       "      <td>cls-a2208557</td>\n",
       "    </tr>\n",
       "    <tr>\n",
       "      <th>10938</th>\n",
       "      <td>10938</td>\n",
       "      <td>El alcalde japonés que le tocó ofrecer disculp...</td>\n",
       "      <td>Por una escena transmitida por televisión, que...</td>\n",
       "      <td>spa</td>\n",
       "      <td>Récord</td>\n",
       "      <td>2021-08-14 02:47:00</td>\n",
       "      <td>https://record.acento.com.do/polideportivo/el-...</td>\n",
       "      <td>cls-83f2a7a0</td>\n",
       "    </tr>\n",
       "    <tr>\n",
       "      <th>10939</th>\n",
       "      <td>10939</td>\n",
       "      <td>Juegos Olímpicos fueron aceptados por muchos j...</td>\n",
       "      <td>En los momentos en que comenzaban los Juegos O...</td>\n",
       "      <td>spa</td>\n",
       "      <td>El Informador Venezuela</td>\n",
       "      <td>2021-08-14 04:25:00</td>\n",
       "      <td>https://www.elinformadorvenezuela.com/deportes...</td>\n",
       "      <td>cls-4e17beb8</td>\n",
       "    </tr>\n",
       "  </tbody>\n",
       "</table>\n",
       "<p>10940 rows × 8 columns</p>\n",
       "</div>"
      ],
      "text/plain": [
       "          id                                              title  \\\n",
       "0          0  Iran's Basketball Team Held At Airport Over 'U...   \n",
       "1          1  Olympics latest: Samoa participation in doubt ...   \n",
       "2          2           What Do the Olympics Have Against Women?   \n",
       "3          3  Breastfeeding Mother Granted Permission To Bri...   \n",
       "4          4  Sports News | Breastfeeding Olympians Allowed ...   \n",
       "...      ...                                                ...   \n",
       "10935  10935  Juegos Olímpicos ganaron aceptación entre much...   \n",
       "10936  10936  Japón, al final, se dejó 'seducir' por los Jue...   \n",
       "10937  10937  Películas esenciales por si te clavaste con el...   \n",
       "10938  10938  El alcalde japonés que le tocó ofrecer disculp...   \n",
       "10939  10939  Juegos Olímpicos fueron aceptados por muchos j...   \n",
       "\n",
       "                                                    body lang  \\\n",
       "0      Incident comes weeks ahead of Tokyo Olympics, ...  eng   \n",
       "1      TOKYO -- The July 23 opening ceremony of the d...  eng   \n",
       "2      Yes, I am talking about how Laurel Hubbard, a ...  eng   \n",
       "3      Breastfeeding mothers competing at the Olympic...  eng   \n",
       "4      Canadian basketball player Kim Gaucher, who is...  eng   \n",
       "...                                                  ...  ...   \n",
       "10935  Antes, muchos japoneses mostraron su reticenci...  spa   \n",
       "10936  Por ahora, hay en muchos japoneses un sentimie...  spa   \n",
       "10937  La brasileña Rayssa Leal se robó el corazón de...  spa   \n",
       "10938  Por una escena transmitida por televisión, que...  spa   \n",
       "10939  En los momentos en que comenzaban los Juegos O...  spa   \n",
       "\n",
       "                        source        published_at  \\\n",
       "0                 Haberler.com 2021-07-01 06:01:00   \n",
       "1                  Nikkei Asia 2021-07-01 08:51:00   \n",
       "2                     Townhall 2021-07-01 08:54:00   \n",
       "3           www.sportbible.com 2021-07-01 10:10:00   \n",
       "4                     LatestLY 2021-07-01 10:20:00   \n",
       "...                        ...                 ...   \n",
       "10935      www.diariolibre.com 2021-08-13 18:36:00   \n",
       "10936            El Financiero 2021-08-13 21:09:00   \n",
       "10937                 Chilango 2021-08-13 23:08:00   \n",
       "10938                   Récord 2021-08-14 02:47:00   \n",
       "10939  El Informador Venezuela 2021-08-14 04:25:00   \n",
       "\n",
       "                                                     url    cluster_id  \n",
       "0      https://en.haberler.com/iran-s-basketball-team...  cls-28ced65f  \n",
       "1      https://asia.nikkei.com/Spotlight/Tokyo-2020-O...  cls-8eb8df54  \n",
       "2      https://townhall.com/tipsheet/rebeccadowns/202...  cls-3ee1cc3c  \n",
       "3      https://www.sportbible.com/australia/news-brea...  cls-49c24cb8  \n",
       "4      https://www.latestly.com/agency-news/sports-ne...  cls-49c24cb8  \n",
       "...                                                  ...           ...  \n",
       "10935  https://www.diariolibre.com/deportes/olimpismo...  cls-4e17beb8  \n",
       "10936  https://www.elfinanciero.com.mx/tokio-2020/202...  cls-4e17beb8  \n",
       "10937  https://www.chilango.com/cine-y-tv/peliculas-e...  cls-a2208557  \n",
       "10938  https://record.acento.com.do/polideportivo/el-...  cls-83f2a7a0  \n",
       "10939  https://www.elinformadorvenezuela.com/deportes...  cls-4e17beb8  \n",
       "\n",
       "[10940 rows x 8 columns]"
      ]
     },
     "execution_count": 95,
     "metadata": {},
     "output_type": "execute_result"
    }
   ],
   "source": [
    "final_df"
   ]
  },
  {
   "cell_type": "code",
   "execution_count": 96,
   "metadata": {},
   "outputs": [],
   "source": [
    "final_df.to_csv(\"../data/final/og2021.full.csv\", encoding=\"utf-8\", index=False)"
   ]
  },
  {
   "cell_type": "markdown",
   "metadata": {},
   "source": [
    "Trim the body to contain at most 15% of the original text"
   ]
  },
  {
   "cell_type": "code",
   "execution_count": 97,
   "metadata": {},
   "outputs": [],
   "source": [
    "def trim_body(x):\n",
    "    max_id = math.floor(len(x) * 0.15)\n",
    "    return x[:max_id]"
   ]
  },
  {
   "cell_type": "code",
   "execution_count": 98,
   "metadata": {},
   "outputs": [],
   "source": [
    "final_df[\"body\"] = final_df[\"body\"].map(lambda x: trim_body(x))"
   ]
  },
  {
   "cell_type": "code",
   "execution_count": 99,
   "metadata": {},
   "outputs": [
    {
     "data": {
      "text/html": [
       "<div>\n",
       "<style scoped>\n",
       "    .dataframe tbody tr th:only-of-type {\n",
       "        vertical-align: middle;\n",
       "    }\n",
       "\n",
       "    .dataframe tbody tr th {\n",
       "        vertical-align: top;\n",
       "    }\n",
       "\n",
       "    .dataframe thead th {\n",
       "        text-align: right;\n",
       "    }\n",
       "</style>\n",
       "<table border=\"1\" class=\"dataframe\">\n",
       "  <thead>\n",
       "    <tr style=\"text-align: right;\">\n",
       "      <th></th>\n",
       "      <th>id</th>\n",
       "      <th>title</th>\n",
       "      <th>body</th>\n",
       "      <th>lang</th>\n",
       "      <th>source</th>\n",
       "      <th>published_at</th>\n",
       "      <th>url</th>\n",
       "      <th>cluster_id</th>\n",
       "    </tr>\n",
       "  </thead>\n",
       "  <tbody>\n",
       "    <tr>\n",
       "      <th>0</th>\n",
       "      <td>0</td>\n",
       "      <td>Iran's Basketball Team Held At Airport Over 'U...</td>\n",
       "      <td>Incident comes weeks ahead of Tokyo Olympics, ...</td>\n",
       "      <td>eng</td>\n",
       "      <td>Haberler.com</td>\n",
       "      <td>2021-07-01 06:01:00</td>\n",
       "      <td>https://en.haberler.com/iran-s-basketball-team...</td>\n",
       "      <td>cls-28ced65f</td>\n",
       "    </tr>\n",
       "    <tr>\n",
       "      <th>1</th>\n",
       "      <td>1</td>\n",
       "      <td>Olympics latest: Samoa participation in doubt ...</td>\n",
       "      <td>TOKYO -- The July 23 opening ceremony of the d...</td>\n",
       "      <td>eng</td>\n",
       "      <td>Nikkei Asia</td>\n",
       "      <td>2021-07-01 08:51:00</td>\n",
       "      <td>https://asia.nikkei.com/Spotlight/Tokyo-2020-O...</td>\n",
       "      <td>cls-8eb8df54</td>\n",
       "    </tr>\n",
       "    <tr>\n",
       "      <th>2</th>\n",
       "      <td>2</td>\n",
       "      <td>What Do the Olympics Have Against Women?</td>\n",
       "      <td>Yes, I am talking about how Laurel Hubbard, a ...</td>\n",
       "      <td>eng</td>\n",
       "      <td>Townhall</td>\n",
       "      <td>2021-07-01 08:54:00</td>\n",
       "      <td>https://townhall.com/tipsheet/rebeccadowns/202...</td>\n",
       "      <td>cls-3ee1cc3c</td>\n",
       "    </tr>\n",
       "    <tr>\n",
       "      <th>3</th>\n",
       "      <td>3</td>\n",
       "      <td>Breastfeeding Mother Granted Permission To Bri...</td>\n",
       "      <td>Breastfeeding mothers competing at the Olympic...</td>\n",
       "      <td>eng</td>\n",
       "      <td>www.sportbible.com</td>\n",
       "      <td>2021-07-01 10:10:00</td>\n",
       "      <td>https://www.sportbible.com/australia/news-brea...</td>\n",
       "      <td>cls-49c24cb8</td>\n",
       "    </tr>\n",
       "    <tr>\n",
       "      <th>4</th>\n",
       "      <td>4</td>\n",
       "      <td>Sports News | Breastfeeding Olympians Allowed ...</td>\n",
       "      <td>Canadian basketball player Kim Gaucher, who is...</td>\n",
       "      <td>eng</td>\n",
       "      <td>LatestLY</td>\n",
       "      <td>2021-07-01 10:20:00</td>\n",
       "      <td>https://www.latestly.com/agency-news/sports-ne...</td>\n",
       "      <td>cls-49c24cb8</td>\n",
       "    </tr>\n",
       "    <tr>\n",
       "      <th>...</th>\n",
       "      <td>...</td>\n",
       "      <td>...</td>\n",
       "      <td>...</td>\n",
       "      <td>...</td>\n",
       "      <td>...</td>\n",
       "      <td>...</td>\n",
       "      <td>...</td>\n",
       "      <td>...</td>\n",
       "    </tr>\n",
       "    <tr>\n",
       "      <th>10935</th>\n",
       "      <td>10935</td>\n",
       "      <td>Juegos Olímpicos ganaron aceptación entre much...</td>\n",
       "      <td>Antes, muchos japoneses mostraron su reticenci...</td>\n",
       "      <td>spa</td>\n",
       "      <td>www.diariolibre.com</td>\n",
       "      <td>2021-08-13 18:36:00</td>\n",
       "      <td>https://www.diariolibre.com/deportes/olimpismo...</td>\n",
       "      <td>cls-4e17beb8</td>\n",
       "    </tr>\n",
       "    <tr>\n",
       "      <th>10936</th>\n",
       "      <td>10936</td>\n",
       "      <td>Japón, al final, se dejó 'seducir' por los Jue...</td>\n",
       "      <td>Por ahora, hay en muchos japoneses un sentimie...</td>\n",
       "      <td>spa</td>\n",
       "      <td>El Financiero</td>\n",
       "      <td>2021-08-13 21:09:00</td>\n",
       "      <td>https://www.elfinanciero.com.mx/tokio-2020/202...</td>\n",
       "      <td>cls-4e17beb8</td>\n",
       "    </tr>\n",
       "    <tr>\n",
       "      <th>10937</th>\n",
       "      <td>10937</td>\n",
       "      <td>Películas esenciales por si te clavaste con el...</td>\n",
       "      <td>La brasileña Rayssa Leal se robó el corazón de...</td>\n",
       "      <td>spa</td>\n",
       "      <td>Chilango</td>\n",
       "      <td>2021-08-13 23:08:00</td>\n",
       "      <td>https://www.chilango.com/cine-y-tv/peliculas-e...</td>\n",
       "      <td>cls-a2208557</td>\n",
       "    </tr>\n",
       "    <tr>\n",
       "      <th>10938</th>\n",
       "      <td>10938</td>\n",
       "      <td>El alcalde japonés que le tocó ofrecer disculp...</td>\n",
       "      <td>Por una escena transmitida por televisión, que...</td>\n",
       "      <td>spa</td>\n",
       "      <td>Récord</td>\n",
       "      <td>2021-08-14 02:47:00</td>\n",
       "      <td>https://record.acento.com.do/polideportivo/el-...</td>\n",
       "      <td>cls-83f2a7a0</td>\n",
       "    </tr>\n",
       "    <tr>\n",
       "      <th>10939</th>\n",
       "      <td>10939</td>\n",
       "      <td>Juegos Olímpicos fueron aceptados por muchos j...</td>\n",
       "      <td>En los momentos en que comenzaban los Juegos O...</td>\n",
       "      <td>spa</td>\n",
       "      <td>El Informador Venezuela</td>\n",
       "      <td>2021-08-14 04:25:00</td>\n",
       "      <td>https://www.elinformadorvenezuela.com/deportes...</td>\n",
       "      <td>cls-4e17beb8</td>\n",
       "    </tr>\n",
       "  </tbody>\n",
       "</table>\n",
       "<p>10940 rows × 8 columns</p>\n",
       "</div>"
      ],
      "text/plain": [
       "          id                                              title  \\\n",
       "0          0  Iran's Basketball Team Held At Airport Over 'U...   \n",
       "1          1  Olympics latest: Samoa participation in doubt ...   \n",
       "2          2           What Do the Olympics Have Against Women?   \n",
       "3          3  Breastfeeding Mother Granted Permission To Bri...   \n",
       "4          4  Sports News | Breastfeeding Olympians Allowed ...   \n",
       "...      ...                                                ...   \n",
       "10935  10935  Juegos Olímpicos ganaron aceptación entre much...   \n",
       "10936  10936  Japón, al final, se dejó 'seducir' por los Jue...   \n",
       "10937  10937  Películas esenciales por si te clavaste con el...   \n",
       "10938  10938  El alcalde japonés que le tocó ofrecer disculp...   \n",
       "10939  10939  Juegos Olímpicos fueron aceptados por muchos j...   \n",
       "\n",
       "                                                    body lang  \\\n",
       "0      Incident comes weeks ahead of Tokyo Olympics, ...  eng   \n",
       "1      TOKYO -- The July 23 opening ceremony of the d...  eng   \n",
       "2      Yes, I am talking about how Laurel Hubbard, a ...  eng   \n",
       "3      Breastfeeding mothers competing at the Olympic...  eng   \n",
       "4      Canadian basketball player Kim Gaucher, who is...  eng   \n",
       "...                                                  ...  ...   \n",
       "10935  Antes, muchos japoneses mostraron su reticenci...  spa   \n",
       "10936  Por ahora, hay en muchos japoneses un sentimie...  spa   \n",
       "10937  La brasileña Rayssa Leal se robó el corazón de...  spa   \n",
       "10938  Por una escena transmitida por televisión, que...  spa   \n",
       "10939  En los momentos en que comenzaban los Juegos O...  spa   \n",
       "\n",
       "                        source        published_at  \\\n",
       "0                 Haberler.com 2021-07-01 06:01:00   \n",
       "1                  Nikkei Asia 2021-07-01 08:51:00   \n",
       "2                     Townhall 2021-07-01 08:54:00   \n",
       "3           www.sportbible.com 2021-07-01 10:10:00   \n",
       "4                     LatestLY 2021-07-01 10:20:00   \n",
       "...                        ...                 ...   \n",
       "10935      www.diariolibre.com 2021-08-13 18:36:00   \n",
       "10936            El Financiero 2021-08-13 21:09:00   \n",
       "10937                 Chilango 2021-08-13 23:08:00   \n",
       "10938                   Récord 2021-08-14 02:47:00   \n",
       "10939  El Informador Venezuela 2021-08-14 04:25:00   \n",
       "\n",
       "                                                     url    cluster_id  \n",
       "0      https://en.haberler.com/iran-s-basketball-team...  cls-28ced65f  \n",
       "1      https://asia.nikkei.com/Spotlight/Tokyo-2020-O...  cls-8eb8df54  \n",
       "2      https://townhall.com/tipsheet/rebeccadowns/202...  cls-3ee1cc3c  \n",
       "3      https://www.sportbible.com/australia/news-brea...  cls-49c24cb8  \n",
       "4      https://www.latestly.com/agency-news/sports-ne...  cls-49c24cb8  \n",
       "...                                                  ...           ...  \n",
       "10935  https://www.diariolibre.com/deportes/olimpismo...  cls-4e17beb8  \n",
       "10936  https://www.elfinanciero.com.mx/tokio-2020/202...  cls-4e17beb8  \n",
       "10937  https://www.chilango.com/cine-y-tv/peliculas-e...  cls-a2208557  \n",
       "10938  https://record.acento.com.do/polideportivo/el-...  cls-83f2a7a0  \n",
       "10939  https://www.elinformadorvenezuela.com/deportes...  cls-4e17beb8  \n",
       "\n",
       "[10940 rows x 8 columns]"
      ]
     },
     "execution_count": 99,
     "metadata": {},
     "output_type": "execute_result"
    }
   ],
   "source": [
    "final_df"
   ]
  },
  {
   "cell_type": "code",
   "execution_count": 100,
   "metadata": {},
   "outputs": [],
   "source": [
    "final_df.to_csv(\"../data/final/og2021.research.csv\", encoding=\"utf-8\", index=False)"
   ]
  },
  {
   "cell_type": "code",
   "execution_count": 80,
   "metadata": {},
   "outputs": [
    {
     "name": "stdout",
     "output_type": "stream",
     "text": [
      "Min, mean, and max article title and body lengths (in characters) by language:\n",
      "Language   & Arts   & tavg (tstd) & bavg  (bstd ) & cls   & cavg (cstd) \\\\\n",
      "Overall    & 10,940 & 12   (4   ) & 118   (128  ) & 1,350 & 8    (20  ) \\\\\n",
      "English    & 4,009  & 11   (3   ) & 183   (171  ) & 729   & 5    (11  ) \\\\\n",
      "Portuguese & 2,410  & 13   (3   ) & 79    (56   ) & 368   & 7    (12  ) \\\\\n",
      "Spanish    & 2,049  & 13   (4   ) & 84    (64   ) & 381   & 5    (9   ) \\\\\n",
      "French     & 845    & 13   (4   ) & 85    (70   ) & 170   & 5    (8   ) \\\\\n",
      "Russian    & 553    & 10   (3   ) & 45    (54   ) & 152   & 4    (6   ) \\\\\n",
      "German     & 516    & 9    (3   ) & 125   (153  ) & 100   & 5    (6   ) \\\\\n",
      "Slovenian  & 331    & 9    (3   ) & 66    (54   ) & 102   & 3    (3   ) \\\\\n",
      "Arabic     & 218    & 10   (3   ) & 60    (40   ) & 71    & 3    (3   ) \\\\\n",
      "Chinese    & 9      & 2    (1   ) & 9     (5    ) & 5     & 2    (1   ) \\\\\n"
     ]
    }
   ],
   "source": [
    "langs = [None] + list(iso_to_lang_mapping.keys())\n",
    "\n",
    "print(\"Min, mean, and max article title and body lengths (in characters) by language:\")\n",
    "print(f\"Language   & Arts   & tavg (tstd) & bavg  (bstd ) & cls   & cavg (cstd) \\\\\\\\\")\n",
    "for lang in langs:\n",
    "    df = final_df[label_df[\"lang\"] == lang] if lang else final_df\n",
    "    language = iso_to_lang_mapping.get(lang, \"Overall\")\n",
    "\n",
    "    title_stats = get_length_stats(df, \"title\")\n",
    "    body_stats = get_length_stats(df, \"body\")\n",
    "\n",
    "    cluster_stats = get_cluster_stats(df, \"cluster_id\")\n",
    "    print(f\"{language:<10} & {len(df):<6,.0f} & {title_stats['avg']:<4.0f} ({title_stats['std']:<4,.0f}) & {body_stats['avg']:<5,.0f} ({body_stats['std']:<5,.0f}) & {cluster_stats['count']:<5,} & {cluster_stats['avg']:<4.0f} ({cluster_stats['std']:<4.0f}) \\\\\\\\\")"
   ]
  },
  {
   "cell_type": "markdown",
   "metadata": {},
   "source": [
    "Prepare the data set for the public"
   ]
  },
  {
   "cell_type": "code",
   "execution_count": 101,
   "metadata": {},
   "outputs": [],
   "source": [
    "final_df = final_df[[\"id\", \"title\", \"lang\", \"source\", \"published_at\", \"url\", \"cluster_id\"]]"
   ]
  },
  {
   "cell_type": "code",
   "execution_count": 102,
   "metadata": {},
   "outputs": [],
   "source": [
    "final_df.to_csv(\"../data/final/og2021.public.csv\", encoding=\"utf-8\", index=False)"
   ]
  },
  {
   "cell_type": "code",
   "execution_count": null,
   "metadata": {},
   "outputs": [],
   "source": []
  }
 ],
 "metadata": {
  "kernelspec": {
   "display_name": "worldnews",
   "language": "python",
   "name": "python3"
  },
  "language_info": {
   "codemirror_mode": {
    "name": "ipython",
    "version": 3
   },
   "file_extension": ".py",
   "mimetype": "text/x-python",
   "name": "python",
   "nbconvert_exporter": "python",
   "pygments_lexer": "ipython3",
   "version": "3.8.12"
  },
  "orig_nbformat": 4
 },
 "nbformat": 4,
 "nbformat_minor": 2
}
